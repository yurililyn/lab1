{
 "cells": [
  {
   "cell_type": "markdown",
   "id": "8cd605c4-8eaf-40dd-8617-43d71e40b19c",
   "metadata": {},
   "source": [
    "Output operator"
   ]
  },
  {
   "cell_type": "code",
   "execution_count": 19,
   "id": "c4af7ef5-f7ad-407b-9572-9248db9feef2",
   "metadata": {},
   "outputs": [
    {
     "name": "stdout",
     "output_type": "stream",
     "text": [
      "Hello, World!\n"
     ]
    }
   ],
   "source": [
    "print(\"Hello, World!\")"
   ]
  },
  {
   "cell_type": "markdown",
   "id": "03bf4c0f-df98-42ae-a605-2492802bc6b7",
   "metadata": {},
   "source": [
    "Condition, syntax"
   ]
  },
  {
   "cell_type": "code",
   "execution_count": 22,
   "id": "93295a34-c6f7-482d-a8e4-d0fa61a07bde",
   "metadata": {},
   "outputs": [
    {
     "name": "stdout",
     "output_type": "stream",
     "text": [
      "Five is greater than two!\n"
     ]
    }
   ],
   "source": [
    "if 5 > 2:\n",
    "    print(\"Five is greater than two!\")"
   ]
  },
  {
   "cell_type": "markdown",
   "id": "eff42137-5016-40c7-977c-4308bc0a38d0",
   "metadata": {},
   "source": [
    "If we'll skip the indentation:"
   ]
  },
  {
   "cell_type": "code",
   "execution_count": 29,
   "id": "d1b2a0a4-2947-4124-adce-70f0d0003531",
   "metadata": {},
   "outputs": [
    {
     "ename": "IndentationError",
     "evalue": "expected an indented block after 'if' statement on line 1 (3793329317.py, line 2)",
     "output_type": "error",
     "traceback": [
      "\u001b[1;36m  Cell \u001b[1;32mIn[29], line 2\u001b[1;36m\u001b[0m\n\u001b[1;33m    print(\"Five is greater than two!\")\u001b[0m\n\u001b[1;37m    ^\u001b[0m\n\u001b[1;31mIndentationError\u001b[0m\u001b[1;31m:\u001b[0m expected an indented block after 'if' statement on line 1\n"
     ]
    }
   ],
   "source": [
    "if 5 > 2:\n",
    "print(\"Five is greater than two!\")"
   ]
  },
  {
   "cell_type": "markdown",
   "id": "6396f8a5-0cfa-46ce-b3b1-0b770b089813",
   "metadata": {},
   "source": [
    "There has to be at least one space, commonly it's four"
   ]
  },
  {
   "cell_type": "code",
   "execution_count": 31,
   "id": "c55639e3-7315-4524-bfa6-2eb5e4d610c2",
   "metadata": {},
   "outputs": [
    {
     "ename": "IndentationError",
     "evalue": "unexpected indent (2030326941.py, line 3)",
     "output_type": "error",
     "traceback": [
      "\u001b[1;36m  Cell \u001b[1;32mIn[31], line 3\u001b[1;36m\u001b[0m\n\u001b[1;33m    print(\"Five is greater than two!\")\u001b[0m\n\u001b[1;37m    ^\u001b[0m\n\u001b[1;31mIndentationError\u001b[0m\u001b[1;31m:\u001b[0m unexpected indent\n"
     ]
    }
   ],
   "source": [
    "if 5 > 2:\n",
    " print(\"Five is greater than two!\")\n",
    "     print(\"Five is greater than two!\")"
   ]
  },
  {
   "cell_type": "markdown",
   "id": "9125ca7c-fd2a-4509-aefb-eb0a2ea048d8",
   "metadata": {},
   "source": [
    "The ammount of spaces in one block for each operation must be equal"
   ]
  },
  {
   "cell_type": "markdown",
   "id": "33ce72e8-782f-45c0-8951-3c73046e7ade",
   "metadata": {},
   "source": [
    "Variables"
   ]
  },
  {
   "cell_type": "code",
   "execution_count": 57,
   "id": "3024dd73-dbd1-4b9d-9d41-b40ce138dd2e",
   "metadata": {},
   "outputs": [
    {
     "name": "stdout",
     "output_type": "stream",
     "text": [
      "5\n",
      "Hello, World!\n"
     ]
    }
   ],
   "source": [
    "x = 5\n",
    "y = \"Hello, World!\"\n",
    "print(x)\n",
    "print(y)"
   ]
  },
  {
   "cell_type": "markdown",
   "id": "0e39ea2f-832c-4e88-9083-a1ccc324b9ee",
   "metadata": {},
   "source": [
    "Python has no command for declaring a variable"
   ]
  },
  {
   "cell_type": "markdown",
   "id": "4f28bdcf-299b-48f3-ae52-54841b5fa392",
   "metadata": {},
   "source": [
    "Comments"
   ]
  },
  {
   "cell_type": "code",
   "execution_count": 61,
   "id": "29fc199b-4921-4a9b-8f5a-7ae882501a9e",
   "metadata": {},
   "outputs": [
    {
     "name": "stdout",
     "output_type": "stream",
     "text": [
      "Hello World!\n"
     ]
    }
   ],
   "source": [
    "#some comments for better understanding the code\n",
    "print(\"Hello World!\")"
   ]
  },
  {
   "cell_type": "code",
   "execution_count": 63,
   "id": "857f163f-dbcc-4496-b5b6-3be721bb2abc",
   "metadata": {},
   "outputs": [
    {
     "name": "stdout",
     "output_type": "stream",
     "text": [
      "Hello World!\n"
     ]
    }
   ],
   "source": [
    "print(\"Hello World!\") #This is also a comment"
   ]
  },
  {
   "cell_type": "code",
   "execution_count": 65,
   "id": "c0965e87-d56b-4428-bb8b-265c0a4a8175",
   "metadata": {},
   "outputs": [
    {
     "name": "stdout",
     "output_type": "stream",
     "text": [
      "Hello World!\n"
     ]
    }
   ],
   "source": [
    "#print(\"Hello World!\")\n",
    "print(\"Hello World!\")"
   ]
  },
  {
   "cell_type": "markdown",
   "id": "150dc85d-a68c-4cf5-be82-580fb8b79217",
   "metadata": {},
   "source": [
    "Variables"
   ]
  },
  {
   "cell_type": "markdown",
   "id": "07552a9d-d60c-424e-8714-5c0624c56865",
   "metadata": {},
   "source": [
    "Example of Creating:"
   ]
  },
  {
   "cell_type": "code",
   "execution_count": 78,
   "id": "de8a4373-7582-468d-b622-b872ce47da87",
   "metadata": {},
   "outputs": [
    {
     "name": "stdout",
     "output_type": "stream",
     "text": [
      "5\n",
      "John\n"
     ]
    }
   ],
   "source": [
    "x = 5\n",
    "y = \"John\"\n",
    "print(x)\n",
    "print(y)"
   ]
  },
  {
   "cell_type": "markdown",
   "id": "0aa94fef-1fb5-43a0-ad68-95bfac5a653e",
   "metadata": {},
   "source": [
    "Example of Changing:"
   ]
  },
  {
   "cell_type": "code",
   "execution_count": 82,
   "id": "cb53faef-0d68-47e9-98d1-8f69a35048a4",
   "metadata": {},
   "outputs": [
    {
     "name": "stdout",
     "output_type": "stream",
     "text": [
      "Sally\n"
     ]
    }
   ],
   "source": [
    "x = 4       # x is of type integer\n",
    "x = \"Sally\" # x is now of type string\n",
    "print(x)"
   ]
  },
  {
   "cell_type": "markdown",
   "id": "1d3f62bd-05cf-4251-abb8-4d3a7b7a44e8",
   "metadata": {},
   "source": [
    "Example of Casting:"
   ]
  },
  {
   "cell_type": "code",
   "execution_count": 96,
   "id": "470512e5-414f-4594-a6ae-91f71d9cbf2e",
   "metadata": {},
   "outputs": [],
   "source": [
    "x = str(3)    # x will be '3'\n",
    "y = int(3)    # y will be 3\n",
    "z = float(3)  # z will be 3.0"
   ]
  },
  {
   "cell_type": "markdown",
   "id": "5f6b77ee-a32b-428f-a986-da3891428587",
   "metadata": {},
   "source": [
    "Get the type function: type()"
   ]
  },
  {
   "cell_type": "code",
   "execution_count": 101,
   "id": "96164c02-13b0-491b-980b-4a7bc3675e87",
   "metadata": {},
   "outputs": [
    {
     "name": "stdout",
     "output_type": "stream",
     "text": [
      "<class 'int'>\n",
      "<class 'str'>\n"
     ]
    }
   ],
   "source": [
    "x = 5\n",
    "y = \"John\"\n",
    "print(type(x))\n",
    "print(type(y))"
   ]
  },
  {
   "cell_type": "markdown",
   "id": "343da5b2-c455-457f-b71d-ba1677bc7060",
   "metadata": {},
   "source": [
    "String variables can be declared either by single or double quotes:"
   ]
  },
  {
   "cell_type": "code",
   "execution_count": 105,
   "id": "336e4580-96da-4b70-9dae-68e559c283bf",
   "metadata": {},
   "outputs": [],
   "source": [
    "x = \"John\"\n",
    "# is the same as\n",
    "x = 'John'"
   ]
  },
  {
   "cell_type": "markdown",
   "id": "3620ce94-a186-401b-8348-9947d166e69a",
   "metadata": {},
   "source": [
    "Case-sensivity:"
   ]
  },
  {
   "cell_type": "code",
   "execution_count": 1,
   "id": "459885ee-0ed9-4919-87b8-b92843d57c8a",
   "metadata": {},
   "outputs": [
    {
     "name": "stdout",
     "output_type": "stream",
     "text": [
      "4 Sally\n"
     ]
    }
   ],
   "source": [
    "a = 4\n",
    "A = \"Sally\"\n",
    "# a and A are different variables\n",
    "print(a, A)"
   ]
  },
  {
   "cell_type": "markdown",
   "id": "28e36826-aa10-472f-8c0d-7ec2b2ccedd8",
   "metadata": {},
   "source": [
    "Variables Names:"
   ]
  },
  {
   "cell_type": "markdown",
   "id": "e489c0d6-7712-4b30-9d4d-a7a785fb83b2",
   "metadata": {},
   "source": [
    "Legal ones:"
   ]
  },
  {
   "cell_type": "code",
   "execution_count": 6,
   "id": "bf671c8f-f79b-4869-bf9d-7fd13a63c303",
   "metadata": {},
   "outputs": [],
   "source": [
    "myvar = \"John\"\n",
    "my_var = \"John\"\n",
    "_my_var = \"John\"\n",
    "myVar = \"John\"\n",
    "MYVAR = \"John\"\n",
    "myvar2 = \"John\""
   ]
  },
  {
   "cell_type": "markdown",
   "id": "79e56444-ad00-4cab-9e31-e41288ce901e",
   "metadata": {},
   "source": [
    "Illegal:"
   ]
  },
  {
   "cell_type": "code",
   "execution_count": 11,
   "id": "322eab58-20ff-4541-86bc-d191d7ea3b71",
   "metadata": {},
   "outputs": [
    {
     "ename": "SyntaxError",
     "evalue": "invalid decimal literal (2185399839.py, line 1)",
     "output_type": "error",
     "traceback": [
      "\u001b[1;36m  Cell \u001b[1;32mIn[11], line 1\u001b[1;36m\u001b[0m\n\u001b[1;33m    2myvar = \"John\"\u001b[0m\n\u001b[1;37m    ^\u001b[0m\n\u001b[1;31mSyntaxError\u001b[0m\u001b[1;31m:\u001b[0m invalid decimal literal\n"
     ]
    }
   ],
   "source": [
    "2myvar = \"John\"\n",
    "my-var = \"John\"\n",
    "my var = \"John\""
   ]
  },
  {
   "cell_type": "markdown",
   "id": "394b6987-feb4-44a3-a7c5-d8bfe92ace5e",
   "metadata": {},
   "source": [
    "Multiple word variables:"
   ]
  },
  {
   "cell_type": "markdown",
   "id": "57c574c7-f11b-4bd8-b465-c0e85a5dff48",
   "metadata": {},
   "source": [
    "Camel Case:"
   ]
  },
  {
   "cell_type": "code",
   "execution_count": 14,
   "id": "01e5b370-b5f5-479c-ae67-c6cfa067c458",
   "metadata": {},
   "outputs": [],
   "source": [
    "myVariableName = \"John\""
   ]
  },
  {
   "cell_type": "markdown",
   "id": "afd03483-9874-4397-ac4e-354fbb0936b4",
   "metadata": {},
   "source": [
    "Pascal Case"
   ]
  },
  {
   "cell_type": "code",
   "execution_count": 17,
   "id": "86193e92-5d53-4972-a988-ff4a644998ec",
   "metadata": {},
   "outputs": [],
   "source": [
    "MyVariableName = \"John\""
   ]
  },
  {
   "cell_type": "markdown",
   "id": "4a15ee55-133f-4461-80c9-a0b8aef9995a",
   "metadata": {},
   "source": [
    "Snake Case:"
   ]
  },
  {
   "cell_type": "code",
   "execution_count": 20,
   "id": "75ba3312-3a10-4b31-8852-a9fc1d86586d",
   "metadata": {},
   "outputs": [],
   "source": [
    "my_variable_name = \"John\""
   ]
  },
  {
   "cell_type": "markdown",
   "id": "c08fcd1b-4319-4578-bcdc-aa6a87c90e92",
   "metadata": {},
   "source": [
    "Many Values to Multiple Variables in one line:"
   ]
  },
  {
   "cell_type": "code",
   "execution_count": 28,
   "id": "01debad4-9bb0-4762-b6bc-debd5e9cc2dc",
   "metadata": {},
   "outputs": [
    {
     "name": "stdout",
     "output_type": "stream",
     "text": [
      "Orange\n",
      "Banana\n",
      "Cherry\n"
     ]
    }
   ],
   "source": [
    "x, y, z = \"Orange\", \"Banana\", \"Cherry\"\n",
    "print(x)\n",
    "print(y)\n",
    "print(z)"
   ]
  },
  {
   "cell_type": "markdown",
   "id": "181c48f1-0e36-4047-8428-38cc7a2fa430",
   "metadata": {},
   "source": [
    "One Value to multiple Variables:"
   ]
  },
  {
   "cell_type": "code",
   "execution_count": 34,
   "id": "ebf14f8e-7c14-4991-9c0f-22be09db9686",
   "metadata": {},
   "outputs": [
    {
     "name": "stdout",
     "output_type": "stream",
     "text": [
      "Orange\n",
      "Orange\n",
      "Orange\n"
     ]
    }
   ],
   "source": [
    "x = y = z = \"Orange\"\n",
    "print(x)\n",
    "print(y)\n",
    "print(z)"
   ]
  },
  {
   "cell_type": "markdown",
   "id": "21a7cd25-af50-4593-bf3f-8781999b7ced",
   "metadata": {},
   "source": [
    "Unpacking the list:"
   ]
  },
  {
   "cell_type": "code",
   "execution_count": 37,
   "id": "3dd10f87-5c3e-4835-8a6c-1a5f922ba93f",
   "metadata": {},
   "outputs": [
    {
     "name": "stdout",
     "output_type": "stream",
     "text": [
      "orange\n",
      "banana\n",
      "cherry\n"
     ]
    }
   ],
   "source": [
    "fruits = [\"orange\", \"banana\", \"cherry\"]\n",
    "x, y, z = fruits\n",
    "print(x)\n",
    "print(y)\n",
    "print(z)"
   ]
  },
  {
   "cell_type": "markdown",
   "id": "6653ff9e-eb1d-4a53-be9e-e9345e4e6686",
   "metadata": {},
   "source": [
    "Output Variables:"
   ]
  },
  {
   "cell_type": "code",
   "execution_count": 42,
   "id": "952f865f-7cb9-4c88-9eb9-2e378601aa63",
   "metadata": {},
   "outputs": [
    {
     "name": "stdout",
     "output_type": "stream",
     "text": [
      "Python is awesome\n"
     ]
    }
   ],
   "source": [
    "x = \"Python is awesome\"\n",
    "print(x)"
   ]
  },
  {
   "cell_type": "markdown",
   "id": "2dfaa4fd-8eab-45c9-8a9c-a3a30326c955",
   "metadata": {},
   "source": [
    "Output multiple variables, separated by a comma:"
   ]
  },
  {
   "cell_type": "code",
   "execution_count": 47,
   "id": "812fe95b-cf1f-4002-a890-9156642ca69a",
   "metadata": {},
   "outputs": [
    {
     "name": "stdout",
     "output_type": "stream",
     "text": [
      "Python is awesome\n"
     ]
    }
   ],
   "source": [
    "x = \"Python\"\n",
    "y = \"is\"\n",
    "z = \"awesome\"\n",
    "print(x, y, z)"
   ]
  },
  {
   "cell_type": "markdown",
   "id": "e67a527b-619a-4e10-93c1-d5a7bc75832b",
   "metadata": {},
   "source": [
    "We can use + instead of comma, but the result will be printed without spaces:"
   ]
  },
  {
   "cell_type": "code",
   "execution_count": 50,
   "id": "b2208981-70e8-4368-9fc8-f564b3a66661",
   "metadata": {},
   "outputs": [
    {
     "name": "stdout",
     "output_type": "stream",
     "text": [
      "Pythonisawesome\n"
     ]
    }
   ],
   "source": [
    "x = \"Python\"\n",
    "y = \"is\"\n",
    "z = \"awesome\"\n",
    "print(x + y + z)"
   ]
  },
  {
   "cell_type": "markdown",
   "id": "171a8fa4-f262-4c3a-9f7c-11183ce216d4",
   "metadata": {},
   "source": [
    "For numbers, the + character works as a mathematical operator:"
   ]
  },
  {
   "cell_type": "code",
   "execution_count": 54,
   "id": "cec7f6ab-8ac7-4f76-b4ce-efdf6bd45970",
   "metadata": {},
   "outputs": [
    {
     "name": "stdout",
     "output_type": "stream",
     "text": [
      "15\n"
     ]
    }
   ],
   "source": [
    "x = 5\n",
    "y = 10\n",
    "print(x + y)"
   ]
  },
  {
   "cell_type": "markdown",
   "id": "c42aa557-2fc3-4921-a2a8-e2c80288ec9e",
   "metadata": {},
   "source": [
    "There will be an error if we'll try to sum number and string:"
   ]
  },
  {
   "cell_type": "code",
   "execution_count": 57,
   "id": "6d1ee49a-d15d-4185-947c-f59d8e926d40",
   "metadata": {},
   "outputs": [
    {
     "ename": "TypeError",
     "evalue": "unsupported operand type(s) for +: 'int' and 'str'",
     "output_type": "error",
     "traceback": [
      "\u001b[1;31m---------------------------------------------------------------------------\u001b[0m",
      "\u001b[1;31mTypeError\u001b[0m                                 Traceback (most recent call last)",
      "Cell \u001b[1;32mIn[57], line 3\u001b[0m\n\u001b[0;32m      1\u001b[0m x \u001b[38;5;241m=\u001b[39m \u001b[38;5;241m5\u001b[39m\n\u001b[0;32m      2\u001b[0m y \u001b[38;5;241m=\u001b[39m \u001b[38;5;124m\"\u001b[39m\u001b[38;5;124mJohn\u001b[39m\u001b[38;5;124m\"\u001b[39m\n\u001b[1;32m----> 3\u001b[0m \u001b[38;5;28mprint\u001b[39m(x \u001b[38;5;241m+\u001b[39m y)\n",
      "\u001b[1;31mTypeError\u001b[0m: unsupported operand type(s) for +: 'int' and 'str'"
     ]
    }
   ],
   "source": [
    "x = 5\n",
    "y = \"John\"\n",
    "print(x + y)"
   ]
  },
  {
   "cell_type": "markdown",
   "id": "def81503-d0d4-46d8-85be-36ec027e87d1",
   "metadata": {},
   "source": [
    "The best way to output multiple variables in the print() function is to separate them with commas, which support different data types:"
   ]
  },
  {
   "cell_type": "code",
   "execution_count": 62,
   "id": "d7f5c883-64a1-4121-90de-dae67adfd12e",
   "metadata": {},
   "outputs": [
    {
     "name": "stdout",
     "output_type": "stream",
     "text": [
      "5 John\n"
     ]
    }
   ],
   "source": [
    "x = 5\n",
    "y = \"John\"\n",
    "print(x, y)"
   ]
  },
  {
   "cell_type": "markdown",
   "id": "b7732a5d-fd5f-4f57-a51e-ccb99622cf5f",
   "metadata": {},
   "source": [
    "Global variables:"
   ]
  },
  {
   "cell_type": "markdown",
   "id": "9b979892-08e5-49c1-afea-46e6081e7b5a",
   "metadata": {},
   "source": [
    "The variable was declared outside of the function, but used inside of it:"
   ]
  },
  {
   "cell_type": "code",
   "execution_count": 77,
   "id": "4a3518c4-3a6e-4c42-bfe2-a5bc08227731",
   "metadata": {},
   "outputs": [
    {
     "name": "stdout",
     "output_type": "stream",
     "text": [
      "Python is awesome\n"
     ]
    }
   ],
   "source": [
    "x = \"awesome\"\n",
    "\n",
    "def func():\n",
    "    print(\"Python is \" + x)\n",
    "    \n",
    "func()"
   ]
  },
  {
   "cell_type": "markdown",
   "id": "326a639a-6b2d-4d1b-b74e-438c6da3e69a",
   "metadata": {},
   "source": [
    "Create a variable inside a function, with the same name as the global variable:"
   ]
  },
  {
   "cell_type": "code",
   "execution_count": 81,
   "id": "05c29995-08d0-4d2b-b839-93a414a566bc",
   "metadata": {},
   "outputs": [
    {
     "name": "stdout",
     "output_type": "stream",
     "text": [
      "Python is fantastic\n",
      "Python is awesome\n"
     ]
    }
   ],
   "source": [
    "x = \"awesome\"\n",
    "\n",
    "def myfunc():\n",
    "  x = \"fantastic\"\n",
    "  print(\"Python is \" + x) # here we printed the variable which was declared inside of the function\n",
    "\n",
    "myfunc()\n",
    "\n",
    "print(\"Python is \" + x) # herer we printed the global one with the same name"
   ]
  },
  {
   "cell_type": "markdown",
   "id": "733d8fe8-102d-485c-901d-cda5d31ab616",
   "metadata": {},
   "source": [
    "If we use the global keyword, the variable belongs to the global scope:"
   ]
  },
  {
   "cell_type": "code",
   "execution_count": 84,
   "id": "52b6cb5c-3caa-4863-a90f-0d8fe87ab720",
   "metadata": {},
   "outputs": [
    {
     "name": "stdout",
     "output_type": "stream",
     "text": [
      "Python is fantastic\n"
     ]
    }
   ],
   "source": [
    "def func():\n",
    "    global x\n",
    "    x = \"fantastic\"\n",
    "\n",
    "func()\n",
    "print(\"Python is \" + x)"
   ]
  },
  {
   "cell_type": "markdown",
   "id": "c208eebc-61f0-4376-bc70-dd22d1be99a0",
   "metadata": {},
   "source": [
    "We can also change the global variable by using global function:"
   ]
  },
  {
   "cell_type": "code",
   "execution_count": 89,
   "id": "843dd98a-5ec7-4bc0-8a15-eb3237d6bb69",
   "metadata": {},
   "outputs": [
    {
     "name": "stdout",
     "output_type": "stream",
     "text": [
      "Python is fantastic\n"
     ]
    }
   ],
   "source": [
    "x = \"awesome\"\n",
    "\n",
    "def func():\n",
    "    global x\n",
    "    x = \"fantastic\"\n",
    "func()\n",
    "print(\"Python is \" + x)"
   ]
  },
  {
   "cell_type": "markdown",
   "id": "dd91cafc-fdbd-4d58-aad8-d71ac596e792",
   "metadata": {},
   "source": [
    "Getting the data types:"
   ]
  },
  {
   "cell_type": "code",
   "execution_count": 96,
   "id": "290dd748-fa1c-4bff-8975-9c5564dbaece",
   "metadata": {},
   "outputs": [],
   "source": [
    "x = \"Hello World\"\t#str\t\n",
    "x = 20\t#int\t\n",
    "x = 20.5\t#float\t\n",
    "x = 1j\t#complex\t\n",
    "x = [\"apple\", \"banana\", \"cherry\"]\t#list\t\n",
    "x = (\"apple\", \"banana\", \"cherry\")\t#tuple\t\n",
    "x = range(6)\t#range\t\n",
    "x = {\"name\" : \"John\", \"age\" : 36}\t#dict\t\n",
    "x = {\"apple\", \"banana\", \"cherry\"}\t#set\t\n",
    "x = frozenset({\"apple\", \"banana\", \"cherry\"})\t#frozenset\t\n",
    "x = True\t#bool\t\n",
    "x = b\"Hello\"\t#bytes\t\n",
    "x = bytearray(5)    #bytearray\t\n",
    "x = memoryview(bytes(5))\t#memoryview\t\n",
    "x = None    #NoneType"
   ]
  },
  {
   "cell_type": "markdown",
   "id": "9eeb947f-7b2e-49de-97b0-852840e38ba1",
   "metadata": {},
   "source": [
    "Setting the Specific Data Type:"
   ]
  },
  {
   "cell_type": "code",
   "execution_count": 101,
   "id": "5cc5b409-45df-4a25-9f8e-3b459438b6b7",
   "metadata": {},
   "outputs": [],
   "source": [
    "x = str(\"Hello World\")\t#str\t\n",
    "x = int(20)\t#int\t\n",
    "x = float(20.5)\t#float\t\n",
    "x = complex(1j)\t#complex\t\n",
    "x = list((\"apple\", \"banana\", \"cherry\"))\t#list\t\n",
    "x = tuple((\"apple\", \"banana\", \"cherry\"))\t#tuple\t\n",
    "x = range(6)\t#range\t\n",
    "x = dict(name=\"John\", age=36)\t#dict\t\n",
    "x = set((\"apple\", \"banana\", \"cherry\"))\t#set\t\n",
    "x = frozenset((\"apple\", \"banana\", \"cherry\"))\t#frozenset\t\n",
    "x = bool(5)\t#bool\t\n",
    "x = bytes(5)\t#bytes\t\n",
    "x = bytearray(5)\t#bytearray\t\n",
    "x = memoryview(bytes(5))\t#memoryview"
   ]
  },
  {
   "cell_type": "markdown",
   "id": "210924af-345b-4cbf-8b63-49a4dd7b7ea6",
   "metadata": {},
   "source": [
    "Python Numbers"
   ]
  },
  {
   "cell_type": "markdown",
   "id": "cf2eef0e-5fec-4c3b-9b00-ae5746e019a8",
   "metadata": {},
   "source": [
    "There are three numeric types in Python:"
   ]
  },
  {
   "cell_type": "code",
   "execution_count": 112,
   "id": "d781248d-a51e-4721-9a63-beb55f4d9f00",
   "metadata": {},
   "outputs": [
    {
     "name": "stdout",
     "output_type": "stream",
     "text": [
      "<class 'int'>\n",
      "<class 'float'>\n",
      "<class 'complex'>\n"
     ]
    }
   ],
   "source": [
    "x = 1 #int\n",
    "y = 2.8 #float\n",
    "z = 1j #complex\n",
    "print(type(x))\n",
    "print(type(y))\n",
    "print(type(z))"
   ]
  },
  {
   "cell_type": "raw",
   "id": "50476cc6-0502-4a4d-ba79-89e6983b8849",
   "metadata": {},
   "source": [
    "Integer numbers:"
   ]
  },
  {
   "cell_type": "code",
   "execution_count": 115,
   "id": "bb48369b-fca5-45ff-ac4e-4a016daa0419",
   "metadata": {},
   "outputs": [
    {
     "name": "stdout",
     "output_type": "stream",
     "text": [
      "<class 'int'>\n",
      "<class 'int'>\n",
      "<class 'int'>\n"
     ]
    }
   ],
   "source": [
    "x = 1\n",
    "y = 35656222554887711\n",
    "z = -3255522\n",
    "\n",
    "print(type(x))\n",
    "print(type(y))\n",
    "print(type(z))"
   ]
  },
  {
   "cell_type": "markdown",
   "id": "c09529c9-029e-44c3-841e-4def1357fedb",
   "metadata": {},
   "source": [
    "Float numbers:"
   ]
  },
  {
   "cell_type": "code",
   "execution_count": 125,
   "id": "dbcf3425-ccf9-416d-9b11-7eb968442228",
   "metadata": {},
   "outputs": [
    {
     "name": "stdout",
     "output_type": "stream",
     "text": [
      "<class 'float'>\n",
      "<class 'float'>\n",
      "<class 'float'>\n",
      "<class 'float'>\n"
     ]
    }
   ],
   "source": [
    "x = 1.10\n",
    "y = 1.0\n",
    "z = -35.59\n",
    "t = 35e4 #e is indicates the power of 10\n",
    "print(type(x))\n",
    "print(type(y))\n",
    "print(type(z))\n",
    "print(type(t))"
   ]
  },
  {
   "cell_type": "markdown",
   "id": "c1a578cf-c376-404b-97f3-b28c94e705f8",
   "metadata": {},
   "source": [
    "Complex numbers, with imaginary part written with \"j\":"
   ]
  },
  {
   "cell_type": "code",
   "execution_count": 127,
   "id": "40008849-042f-4644-805e-d161b8e9c6e1",
   "metadata": {},
   "outputs": [
    {
     "name": "stdout",
     "output_type": "stream",
     "text": [
      "<class 'complex'>\n",
      "<class 'complex'>\n",
      "<class 'complex'>\n"
     ]
    }
   ],
   "source": [
    "x = 3+5j\n",
    "y = 5j\n",
    "z = -5j\n",
    "\n",
    "print(type(x))\n",
    "print(type(y))\n",
    "print(type(z))"
   ]
  },
  {
   "cell_type": "markdown",
   "id": "bcb50c2b-f0b4-44c5-9359-62a56645a386",
   "metadata": {},
   "source": [
    "We can convert from one type to another with the int(), float(), and complex() methods:"
   ]
  },
  {
   "cell_type": "code",
   "execution_count": 133,
   "id": "403100fe-665b-44a0-9239-d031671a1310",
   "metadata": {},
   "outputs": [
    {
     "name": "stdout",
     "output_type": "stream",
     "text": [
      "1.0\n",
      "2\n",
      "(1+0j)\n",
      "<class 'float'>\n",
      "<class 'int'>\n",
      "<class 'complex'>\n"
     ]
    }
   ],
   "source": [
    "x = 1    # int\n",
    "y = 2.8  # float\n",
    "z = 1j   # complex\n",
    "\n",
    "#convert from int to float:\n",
    "a = float(x)\n",
    "\n",
    "#convert from float to int:\n",
    "b = int(y)\n",
    "\n",
    "#convert from int to complex:\n",
    "c = complex(x)\n",
    "\n",
    "print(a)\n",
    "print(b)\n",
    "print(c)\n",
    "\n",
    "print(type(a))\n",
    "print(type(b))\n",
    "print(type(c))"
   ]
  },
  {
   "cell_type": "markdown",
   "id": "5c45b011-274e-48f2-b5bc-0bc6ed2dc275",
   "metadata": {},
   "source": [
    "We cannot convert complex numbers into another number type"
   ]
  },
  {
   "cell_type": "markdown",
   "id": "8c25effe-825e-4ab8-bc51-3c83767268c9",
   "metadata": {},
   "source": [
    "Python has a built-in module called random that can be used to make random numbers:"
   ]
  },
  {
   "cell_type": "code",
   "execution_count": 141,
   "id": "caabbb55-234e-42fe-92eb-a99f2b15803d",
   "metadata": {},
   "outputs": [
    {
     "name": "stdout",
     "output_type": "stream",
     "text": [
      "7\n"
     ]
    }
   ],
   "source": [
    "import random\n",
    "\n",
    "print(random.randrange(1, 10))"
   ]
  },
  {
   "cell_type": "markdown",
   "id": "3a09a907-80d9-4d81-8e5e-4d891d4cdb13",
   "metadata": {},
   "source": [
    "Specifying the variable type"
   ]
  },
  {
   "cell_type": "markdown",
   "id": "424406cd-cf36-4cbf-bc9b-5399d2c05a08",
   "metadata": {},
   "source": [
    "Integers:"
   ]
  },
  {
   "cell_type": "code",
   "execution_count": 151,
   "id": "8e7c4c32-ea6a-4f6d-a8ce-7d0dfe2b4225",
   "metadata": {},
   "outputs": [
    {
     "name": "stdout",
     "output_type": "stream",
     "text": [
      "1\n",
      "2\n",
      "3\n"
     ]
    }
   ],
   "source": [
    "x = int(1)   # x will be 1\n",
    "y = int(2.8) # y will be 2\n",
    "z = int(\"3\") # z will be 3\n",
    "print(x)\n",
    "print(y)\n",
    "print(z)"
   ]
  },
  {
   "cell_type": "markdown",
   "id": "565958ff-ba00-42a4-94ad-54abe6f9f125",
   "metadata": {},
   "source": [
    "Floats:"
   ]
  },
  {
   "cell_type": "code",
   "execution_count": 154,
   "id": "823b5225-f4cb-4b92-b1fd-6b281523e504",
   "metadata": {},
   "outputs": [
    {
     "name": "stdout",
     "output_type": "stream",
     "text": [
      "1.0\n",
      "2.8\n",
      "3.0\n",
      "4.2\n"
     ]
    }
   ],
   "source": [
    "x = float(1)     # x will be 1.0\n",
    "y = float(2.8)   # y will be 2.8\n",
    "z = float(\"3\")   # z will be 3.0\n",
    "w = float(\"4.2\") # w will be 4.2\n",
    "print(x)\n",
    "print(y)\n",
    "print(z)\n",
    "print(w)"
   ]
  },
  {
   "cell_type": "markdown",
   "id": "0bb0079c-8139-46ab-8151-02159e8b2f59",
   "metadata": {},
   "source": [
    "Strings:"
   ]
  },
  {
   "cell_type": "code",
   "execution_count": 157,
   "id": "fe9b583c-652c-4136-8c7b-f69347ad0236",
   "metadata": {},
   "outputs": [
    {
     "name": "stdout",
     "output_type": "stream",
     "text": [
      "s1\n",
      "2\n",
      "3.0\n"
     ]
    }
   ],
   "source": [
    "x = str(\"s1\") # x will be 's1'\n",
    "y = str(2)    # y will be '2'\n",
    "z = str(3.0)  # z will be '3.0'\n",
    "print(x)\n",
    "print(y)\n",
    "print(z)"
   ]
  },
  {
   "cell_type": "markdown",
   "id": "2d8177da-714e-496d-af47-ba05eeec9ab4",
   "metadata": {},
   "source": [
    "Strings Variable Type"
   ]
  },
  {
   "cell_type": "markdown",
   "id": "623b04aa-b471-4a5e-8292-1a5c101cc401",
   "metadata": {},
   "source": [
    "You can use quotes inside a string, as long as they don't match the quotes surrounding the string:"
   ]
  },
  {
   "cell_type": "code",
   "execution_count": 161,
   "id": "84327157-09e9-46e9-a9db-12d97e16bc2b",
   "metadata": {},
   "outputs": [
    {
     "name": "stdout",
     "output_type": "stream",
     "text": [
      "It's alright\n",
      "He is called 'Johnny'\n",
      "He is called \"Johnny\"\n"
     ]
    }
   ],
   "source": [
    "print(\"It's alright\")\n",
    "print(\"He is called 'Johnny'\")\n",
    "print('He is called \"Johnny\"')"
   ]
  },
  {
   "cell_type": "markdown",
   "id": "6ebe325e-6c8e-47d2-8414-d5c3c688fe16",
   "metadata": {},
   "source": [
    "Assigning string to a variable:"
   ]
  },
  {
   "cell_type": "code",
   "execution_count": 167,
   "id": "c4ae7d1a-2a13-4687-9a62-6b631f273789",
   "metadata": {},
   "outputs": [
    {
     "name": "stdout",
     "output_type": "stream",
     "text": [
      "Hello\n"
     ]
    }
   ],
   "source": [
    "a = \"Hello\"\n",
    "print(a)"
   ]
  },
  {
   "cell_type": "markdown",
   "id": "c9d2833e-0ebb-45b7-86da-04fdbfaf3a53",
   "metadata": {},
   "source": [
    "Multiple Strings:"
   ]
  },
  {
   "cell_type": "markdown",
   "id": "716aae95-a91a-44ea-93cd-49dc3ba0d9e7",
   "metadata": {},
   "source": [
    "We can assign a multiline string to a variable by using three quotes:"
   ]
  },
  {
   "cell_type": "code",
   "execution_count": 172,
   "id": "eb429647-b1a4-4f61-9e7e-4ec829bbfa96",
   "metadata": {},
   "outputs": [
    {
     "name": "stdout",
     "output_type": "stream",
     "text": [
      "blah blah blah\n",
      "blah blah blah\n",
      "blah blah blah\n"
     ]
    }
   ],
   "source": [
    "a = \"\"\"blah blah blah\n",
    "blah blah blah\n",
    "blah blah blah\"\"\"\n",
    "print(a)"
   ]
  },
  {
   "cell_type": "markdown",
   "id": "eaf71adf-b80b-4393-99aa-541b9a9d9301",
   "metadata": {},
   "source": [
    "The same with the single quotes:"
   ]
  },
  {
   "cell_type": "code",
   "execution_count": 175,
   "id": "15765820-a9dd-4116-9eca-817690cd0d26",
   "metadata": {},
   "outputs": [
    {
     "name": "stdout",
     "output_type": "stream",
     "text": [
      "blah blah blah\n",
      "blah blah blah\n",
      "blah blah blah\n"
     ]
    }
   ],
   "source": [
    "a = '''blah blah blah\n",
    "blah blah blah\n",
    "blah blah blah'''\n",
    "print(a)"
   ]
  },
  {
   "cell_type": "markdown",
   "id": "46bbaa76-3f1b-4ca6-95c3-a39989c27107",
   "metadata": {},
   "source": [
    "Strings are Arrays"
   ]
  },
  {
   "cell_type": "code",
   "execution_count": 184,
   "id": "fe3c0520-5185-4a6c-b8ff-8b152b67fa9e",
   "metadata": {},
   "outputs": [
    {
     "name": "stdout",
     "output_type": "stream",
     "text": [
      "e\n"
     ]
    }
   ],
   "source": [
    "word = \"Hello, World!\"\n",
    "print(word[1]) #printing the character that has index = 1"
   ]
  },
  {
   "cell_type": "markdown",
   "id": "67730ce7-1e6f-4d60-9ad9-fcd67bcb09f5",
   "metadata": {},
   "source": [
    "We can loop through the letters of the string:"
   ]
  },
  {
   "cell_type": "code",
   "execution_count": 187,
   "id": "57b617fb-364c-4cac-8455-a290b68e86d4",
   "metadata": {},
   "outputs": [
    {
     "name": "stdout",
     "output_type": "stream",
     "text": [
      "b\n",
      "a\n",
      "n\n",
      "a\n",
      "n\n",
      "a\n"
     ]
    }
   ],
   "source": [
    "for char in \"banana\":\n",
    "    print(char)"
   ]
  },
  {
   "cell_type": "markdown",
   "id": "77a5c7d5-6988-44ca-bea5-01fc0cd7aa7d",
   "metadata": {},
   "source": [
    "To get the length of the string we can use len() function:"
   ]
  },
  {
   "cell_type": "code",
   "execution_count": 190,
   "id": "0a463297-980d-4a11-99b1-9527b3f4e9a0",
   "metadata": {},
   "outputs": [
    {
     "name": "stdout",
     "output_type": "stream",
     "text": [
      "6\n"
     ]
    }
   ],
   "source": [
    "word = \"banana\"\n",
    "print(len(word))"
   ]
  },
  {
   "cell_type": "markdown",
   "id": "0e46e76d-ee67-4487-9fab-f520141a2a2c",
   "metadata": {},
   "source": [
    "To check if a certain phrase or character is present in a string, we can use the keyword in:"
   ]
  },
  {
   "cell_type": "code",
   "execution_count": 199,
   "id": "039a92bd-bfb2-460a-a027-642b15e7fc3c",
   "metadata": {},
   "outputs": [
    {
     "name": "stdout",
     "output_type": "stream",
     "text": [
      "True\n"
     ]
    }
   ],
   "source": [
    "txt = \"The best things in life are free!\"\n",
    "print(\"free\" in txt)"
   ]
  },
  {
   "cell_type": "markdown",
   "id": "054dc1e2-8227-40cf-87a3-474e744c20ce",
   "metadata": {},
   "source": [
    "We can also use if statement:"
   ]
  },
  {
   "cell_type": "code",
   "execution_count": 208,
   "id": "b1184bc4-1b77-4bdc-a44b-49b727ec5ffe",
   "metadata": {},
   "outputs": [
    {
     "name": "stdout",
     "output_type": "stream",
     "text": [
      "Yes, 'free' is present\n"
     ]
    }
   ],
   "source": [
    "txt = \"The best things in life are free!\"\n",
    "if \"free\" in txt:\n",
    "    print(\"Yes, 'free' is present\")"
   ]
  },
  {
   "cell_type": "markdown",
   "id": "c5f81506-2736-4f60-bf43-ae8c7239d84f",
   "metadata": {},
   "source": [
    "Check if \"expensive\" is NOT present in the following text:"
   ]
  },
  {
   "cell_type": "code",
   "execution_count": 213,
   "id": "562076e2-786c-4d5f-bb22-836e42ddffad",
   "metadata": {},
   "outputs": [
    {
     "name": "stdout",
     "output_type": "stream",
     "text": [
      "Yes, 'expensive' is NOT present in txt\n"
     ]
    }
   ],
   "source": [
    "txt = \"The best things in life are free!\"\n",
    "if \"expensive\" not in txt:\n",
    "    print(\"Yes, 'expensive' is NOT present in txt\")"
   ]
  },
  {
   "cell_type": "markdown",
   "id": "37ee0301-7263-4b52-a76c-4e7aeed47c14",
   "metadata": {},
   "source": [
    "Slicing Strings"
   ]
  },
  {
   "cell_type": "markdown",
   "id": "20995648-c546-431f-8edb-3986984e0f66",
   "metadata": {},
   "source": [
    "We can return a range of characters by using the slice syntax:"
   ]
  },
  {
   "cell_type": "code",
   "execution_count": 12,
   "id": "a0a77879-572b-4b78-ac91-1cd9f0bf04e7",
   "metadata": {},
   "outputs": [
    {
     "name": "stdout",
     "output_type": "stream",
     "text": [
      "llo\n"
     ]
    }
   ],
   "source": [
    "b = \"Hello, World!\"\n",
    "print(b[2:5])"
   ]
  },
  {
   "cell_type": "markdown",
   "id": "0d4c36e5-4160-4823-a938-de37c7805b23",
   "metadata": {},
   "source": [
    "By leaving out the start index, the range will start at the first character:"
   ]
  },
  {
   "cell_type": "code",
   "execution_count": 15,
   "id": "5ec1041c-c0bf-4972-a6b1-9af320ef984f",
   "metadata": {},
   "outputs": [
    {
     "name": "stdout",
     "output_type": "stream",
     "text": [
      "Hello\n"
     ]
    }
   ],
   "source": [
    "b = \"Hello, World!\"\n",
    "print(b[:5])"
   ]
  },
  {
   "cell_type": "markdown",
   "id": "f08597f3-e445-433c-b1b8-b595016368ef",
   "metadata": {},
   "source": [
    "By leaving the end index, the range will go to the end:"
   ]
  },
  {
   "cell_type": "code",
   "execution_count": 18,
   "id": "b81b63b0-54b3-4554-bff7-0ad138821d1a",
   "metadata": {},
   "outputs": [
    {
     "name": "stdout",
     "output_type": "stream",
     "text": [
      "llo, World!\n"
     ]
    }
   ],
   "source": [
    "b = \"Hello, World!\"\n",
    "print(b[2:])"
   ]
  },
  {
   "cell_type": "markdown",
   "id": "21f3f1ce-381e-41b1-a849-04ae7bb50f94",
   "metadata": {},
   "source": [
    "Use negative indexes to start the slice from the end of the string:"
   ]
  },
  {
   "cell_type": "code",
   "execution_count": 21,
   "id": "4f54dedd-7ce2-477a-bc06-772275cd74f1",
   "metadata": {},
   "outputs": [
    {
     "name": "stdout",
     "output_type": "stream",
     "text": [
      "orl\n"
     ]
    }
   ],
   "source": [
    "b = \"Hello, World!\"\n",
    "print(b[-5:-2])"
   ]
  },
  {
   "cell_type": "markdown",
   "id": "bc98ab72-a606-44fe-b9e5-50233851a490",
   "metadata": {},
   "source": [
    "The upper() method returns the string in upper case:"
   ]
  },
  {
   "cell_type": "code",
   "execution_count": 24,
   "id": "bae269fb-9ef6-469d-9e9e-7bfbc33a6272",
   "metadata": {},
   "outputs": [
    {
     "name": "stdout",
     "output_type": "stream",
     "text": [
      "HELLO, WORLD!\n"
     ]
    }
   ],
   "source": [
    "a = \"Hello, World!\"\n",
    "print(a.upper())"
   ]
  },
  {
   "cell_type": "markdown",
   "id": "56961121-8d01-4a39-b56b-d63f940bb52c",
   "metadata": {},
   "source": [
    "The lower() method returns the string in lower case:"
   ]
  },
  {
   "cell_type": "code",
   "execution_count": 27,
   "id": "78522744-710d-4250-9588-d186f26dfb1b",
   "metadata": {},
   "outputs": [
    {
     "name": "stdout",
     "output_type": "stream",
     "text": [
      "hello, world!\n"
     ]
    }
   ],
   "source": [
    "a = \"Hello, World!\"\n",
    "print(a.lower())"
   ]
  },
  {
   "cell_type": "markdown",
   "id": "a5053e4d-28e6-4148-9760-7eb6c5bd0831",
   "metadata": {},
   "source": [
    "The strip() method removes any whitespace from the beginning or the end:"
   ]
  },
  {
   "cell_type": "code",
   "execution_count": 30,
   "id": "4de66076-e664-4362-b60e-1b389965287f",
   "metadata": {},
   "outputs": [
    {
     "name": "stdout",
     "output_type": "stream",
     "text": [
      "Hello, World!\n"
     ]
    }
   ],
   "source": [
    "a = \"   Hello, World!   \"\n",
    "print(a.strip()) # returns \"Hello, World!\""
   ]
  },
  {
   "cell_type": "markdown",
   "id": "58c7fcfd-90c4-4a1c-8672-d20c58e8236c",
   "metadata": {},
   "source": [
    "The replace() method replaces a string with another string:"
   ]
  },
  {
   "cell_type": "code",
   "execution_count": 38,
   "id": "f49a0f43-8079-4dce-ac4d-05e7fa65e5c3",
   "metadata": {},
   "outputs": [
    {
     "name": "stdout",
     "output_type": "stream",
     "text": [
      "Jello, World!\n"
     ]
    }
   ],
   "source": [
    "a = \"Hello, World!\"\n",
    "print(a.replace(\"H\", \"J\"))"
   ]
  },
  {
   "cell_type": "markdown",
   "id": "94c41eaf-3976-46f9-aba9-a95b4c9e6a0c",
   "metadata": {},
   "source": [
    "The split() method splits the string into substrings if it finds instances of the separator:"
   ]
  },
  {
   "cell_type": "code",
   "execution_count": 35,
   "id": "52933d32-593c-4df6-9d8e-8ee6782b9928",
   "metadata": {},
   "outputs": [
    {
     "name": "stdout",
     "output_type": "stream",
     "text": [
      "['Hello', ' World!']\n"
     ]
    }
   ],
   "source": [
    "a = \"Hello, World!\"\n",
    "print(a.split(\",\"))"
   ]
  },
  {
   "cell_type": "markdown",
   "id": "95b3bcb4-b844-41d1-af6d-c83276d0dfa4",
   "metadata": {},
   "source": [
    "String Concatenation"
   ]
  },
  {
   "cell_type": "markdown",
   "id": "569e109e-6b55-4f0c-8894-a816312ae598",
   "metadata": {},
   "source": [
    "Merge variable a with variable b into variable c:"
   ]
  },
  {
   "cell_type": "code",
   "execution_count": 52,
   "id": "c89ba0bc-2584-481f-8272-9523d1d6db31",
   "metadata": {},
   "outputs": [
    {
     "name": "stdout",
     "output_type": "stream",
     "text": [
      "HelloWorld\n"
     ]
    }
   ],
   "source": [
    "a = \"Hello\"\n",
    "b = \"World\"\n",
    "c = a + b\n",
    "print(c)"
   ]
  },
  {
   "cell_type": "markdown",
   "id": "b65968fa-b9da-47a4-a16d-0bfc17faca54",
   "metadata": {},
   "source": [
    "To add a space between them, add a \" \":"
   ]
  },
  {
   "cell_type": "code",
   "execution_count": 55,
   "id": "88b69cef-8059-40af-af43-d870052c7eda",
   "metadata": {},
   "outputs": [
    {
     "name": "stdout",
     "output_type": "stream",
     "text": [
      "Hello World\n"
     ]
    }
   ],
   "source": [
    "a = \"Hello\"\n",
    "b = \"World\"\n",
    "c = a + \" \" + b\n",
    "print(c)"
   ]
  },
  {
   "cell_type": "markdown",
   "id": "9b9dcd20-f1b9-470b-a1c3-cc29c6ae1da0",
   "metadata": {},
   "source": [
    "We cannot combine strings and numbers like this:"
   ]
  },
  {
   "cell_type": "code",
   "execution_count": 58,
   "id": "f809467e-f8f6-4341-ba17-6c4130392539",
   "metadata": {},
   "outputs": [
    {
     "ename": "TypeError",
     "evalue": "can only concatenate str (not \"int\") to str",
     "output_type": "error",
     "traceback": [
      "\u001b[1;31m---------------------------------------------------------------------------\u001b[0m",
      "\u001b[1;31mTypeError\u001b[0m                                 Traceback (most recent call last)",
      "Cell \u001b[1;32mIn[58], line 2\u001b[0m\n\u001b[0;32m      1\u001b[0m age \u001b[38;5;241m=\u001b[39m \u001b[38;5;241m36\u001b[39m\n\u001b[1;32m----> 2\u001b[0m txt \u001b[38;5;241m=\u001b[39m \u001b[38;5;124m\"\u001b[39m\u001b[38;5;124mMy name is John, I am \u001b[39m\u001b[38;5;124m\"\u001b[39m \u001b[38;5;241m+\u001b[39m age\n\u001b[0;32m      3\u001b[0m \u001b[38;5;28mprint\u001b[39m(txt)\n",
      "\u001b[1;31mTypeError\u001b[0m: can only concatenate str (not \"int\") to str"
     ]
    }
   ],
   "source": [
    "age = 36\n",
    "txt = \"My name is John, I am \" + age\n",
    "print(txt)"
   ]
  },
  {
   "cell_type": "markdown",
   "id": "4b97b835-c8aa-4e43-9d14-7d13d33ea568",
   "metadata": {},
   "source": [
    "But we can combine strings and numbers by using f-strings or the format() method:"
   ]
  },
  {
   "cell_type": "code",
   "execution_count": 62,
   "id": "c6bec898-868a-4862-8c42-688b54bacb68",
   "metadata": {},
   "outputs": [
    {
     "name": "stdout",
     "output_type": "stream",
     "text": [
      "My name is John, I am 36\n"
     ]
    }
   ],
   "source": [
    "age = 36\n",
    "txt = f\"My name is John, I am {age}\"\n",
    "print(txt)"
   ]
  },
  {
   "cell_type": "markdown",
   "id": "d2df6ea9-d166-48a2-90b8-c9de2a6c9d37",
   "metadata": {},
   "source": [
    "A placeholder can contain variables, operations, functions, and modifiers to format the value:"
   ]
  },
  {
   "cell_type": "code",
   "execution_count": 65,
   "id": "cf06cb2e-f1d4-4d71-907f-57a9c019f264",
   "metadata": {},
   "outputs": [
    {
     "name": "stdout",
     "output_type": "stream",
     "text": [
      "The price is 59 dollars\n"
     ]
    }
   ],
   "source": [
    "price = 59\n",
    "txt = f\"The price is {price} dollars\"\n",
    "print(txt)"
   ]
  },
  {
   "cell_type": "markdown",
   "id": "53009f4e-a093-46e5-809d-96fa99b1f889",
   "metadata": {},
   "source": [
    "A placeholder can include a modifier to format the value"
   ]
  },
  {
   "cell_type": "markdown",
   "id": "dfd14f54-0280-4bd2-9fa9-cb9296cfee5e",
   "metadata": {},
   "source": [
    "A modifier is included by adding a colon : followed by a legal formatting type, like .2f which means fixed point number with 2 decimals:"
   ]
  },
  {
   "cell_type": "code",
   "execution_count": 68,
   "id": "4a1a6649-9e05-4bfc-8d3c-2c16fa5274a4",
   "metadata": {},
   "outputs": [
    {
     "name": "stdout",
     "output_type": "stream",
     "text": [
      "The price is 59.00 dollars\n"
     ]
    }
   ],
   "source": [
    "price = 59\n",
    "txt = f\"The price is {price:.2f} dollars\"\n",
    "print(txt)"
   ]
  },
  {
   "cell_type": "markdown",
   "id": "a1b3b27d-116d-4b42-bbeb-6f8ca228e49f",
   "metadata": {},
   "source": [
    "A placeholder can contain Python code, like math operations:"
   ]
  },
  {
   "cell_type": "code",
   "execution_count": 77,
   "id": "25c373ff-72b5-497e-8921-696d34f8981a",
   "metadata": {},
   "outputs": [
    {
     "name": "stdout",
     "output_type": "stream",
     "text": [
      "The price is 1207.71 dollars\n"
     ]
    }
   ],
   "source": [
    "txt = f\"The price is {20.25 * 59.64:.2f} dollars\"\n",
    "print(txt)"
   ]
  },
  {
   "cell_type": "markdown",
   "id": "90bf339b-cd4e-4542-85aa-2397c93d84ac",
   "metadata": {},
   "source": [
    "Escape Characters"
   ]
  },
  {
   "cell_type": "markdown",
   "id": "451b25a2-c5d0-498f-841e-213faa7b681e",
   "metadata": {},
   "source": [
    "You will get an error if you use double quotes inside a string that is surrounded by double quotes:"
   ]
  },
  {
   "cell_type": "code",
   "execution_count": 83,
   "id": "c8d8b982-1e2d-4da8-945d-453285e966b8",
   "metadata": {},
   "outputs": [
    {
     "ename": "SyntaxError",
     "evalue": "invalid syntax (7934146.py, line 1)",
     "output_type": "error",
     "traceback": [
      "\u001b[1;36m  Cell \u001b[1;32mIn[83], line 1\u001b[1;36m\u001b[0m\n\u001b[1;33m    txt = \"We are the so-called \"Vikings\" from the north.\"\u001b[0m\n\u001b[1;37m                                 ^\u001b[0m\n\u001b[1;31mSyntaxError\u001b[0m\u001b[1;31m:\u001b[0m invalid syntax\n"
     ]
    }
   ],
   "source": [
    "txt = \"We are the so-called \"Vikings\" from the north.\""
   ]
  },
  {
   "cell_type": "markdown",
   "id": "2e790858-26af-4d28-a963-39518097edb4",
   "metadata": {},
   "source": [
    "To avoid the error we need to use escape characters:"
   ]
  },
  {
   "cell_type": "code",
   "execution_count": 87,
   "id": "1761ca9e-c1e9-43df-b021-6480e916ff3d",
   "metadata": {},
   "outputs": [],
   "source": [
    "txt = \"We are the so-called \\\"Vikings\\\" from the north.\""
   ]
  },
  {
   "cell_type": "markdown",
   "id": "6351f207-24c3-4377-bfbe-770d999f51d9",
   "metadata": {},
   "source": [
    "Other escape characters used in Python:"
   ]
  },
  {
   "cell_type": "code",
   "execution_count": 102,
   "id": "d0ef9773-ad9b-4314-8bf4-dbb233fe6fcc",
   "metadata": {},
   "outputs": [
    {
     "ename": "SyntaxError",
     "evalue": "unexpected character after line continuation character (386132905.py, line 1)",
     "output_type": "error",
     "traceback": [
      "\u001b[1;36m  Cell \u001b[1;32mIn[102], line 1\u001b[1;36m\u001b[0m\n\u001b[1;33m    \\'\t#Single Quote\u001b[0m\n\u001b[1;37m     ^\u001b[0m\n\u001b[1;31mSyntaxError\u001b[0m\u001b[1;31m:\u001b[0m unexpected character after line continuation character\n"
     ]
    }
   ],
   "source": [
    "\\'\t#Single Quote\t\n",
    "\\\\\t#Backslash\t\n",
    "\\n\t#New Line\t\n",
    "\\r\t#Carriage Return\t\n",
    "\\t\t#Tab\t\n",
    "\\b\t#Backspace\t\n",
    "\\f\t#Form Feed\t\n",
    "\\ooo\t#Octal value\t\n",
    "\\xhh\t#Hex value"
   ]
  },
  {
   "cell_type": "markdown",
   "id": "3d82ab1b-3199-42ee-be8e-87fe70f8e30b",
   "metadata": {},
   "source": [
    "String Methods"
   ]
  },
  {
   "cell_type": "markdown",
   "id": "bd8e185a-af59-47c5-9536-0770c944e303",
   "metadata": {},
   "source": [
    "capitalise() Method:"
   ]
  },
  {
   "cell_type": "code",
   "execution_count": 111,
   "id": "e77519ad-84cf-4cea-acad-1299246098d7",
   "metadata": {},
   "outputs": [
    {
     "name": "stdout",
     "output_type": "stream",
     "text": [
      "Hello, and welcome to my world.\n"
     ]
    }
   ],
   "source": [
    "txt = \"hello, and welcome to my world.\"\n",
    "x = txt.capitalize()\n",
    "print (x)"
   ]
  },
  {
   "cell_type": "markdown",
   "id": "b935710c-cae9-4d46-bcd2-d72a00fc55e1",
   "metadata": {},
   "source": [
    "The capitalize() method returns a string where the first character is upper case, and the rest is lower case"
   ]
  },
  {
   "cell_type": "code",
   "execution_count": 117,
   "id": "f69cbaf2-449e-40b4-bd23-d575aa0de95f",
   "metadata": {},
   "outputs": [
    {
     "name": "stdout",
     "output_type": "stream",
     "text": [
      "Python is fun!\n"
     ]
    }
   ],
   "source": [
    "txt = \"python is FUN!\"\n",
    "x = txt.capitalize()\n",
    "print (x)"
   ]
  },
  {
   "cell_type": "code",
   "execution_count": 119,
   "id": "5d4ba698-82cb-4395-ab1e-41e872fbdcfe",
   "metadata": {},
   "outputs": [
    {
     "name": "stdout",
     "output_type": "stream",
     "text": [
      "36 is my age.\n"
     ]
    }
   ],
   "source": [
    "txt = \"36 is my age.\"\n",
    "x = txt.capitalize()\n",
    "print (x)"
   ]
  },
  {
   "cell_type": "markdown",
   "id": "56677209-bef4-495f-8b5d-48dd585af98f",
   "metadata": {},
   "source": [
    "casefold() Method:"
   ]
  },
  {
   "cell_type": "code",
   "execution_count": 124,
   "id": "0a15d9c1-c239-4386-8d84-46843cafcb19",
   "metadata": {},
   "outputs": [
    {
     "name": "stdout",
     "output_type": "stream",
     "text": [
      "hello, and welcome to my world!\n"
     ]
    }
   ],
   "source": [
    "txt = \"Hello, And Welcome To My World!\"\n",
    "x = txt.casefold()\n",
    "print(x)"
   ]
  },
  {
   "cell_type": "markdown",
   "id": "af44514a-ff4d-4419-a531-b161d6a45e8d",
   "metadata": {},
   "source": [
    "center() Method:"
   ]
  },
  {
   "cell_type": "markdown",
   "id": "04274249-20c3-4b79-95b8-dc98418f8ee6",
   "metadata": {},
   "source": [
    "Print the word \"banana\", taking up the space of 20 characters, with \"banana\" in the middle:"
   ]
  },
  {
   "cell_type": "code",
   "execution_count": 129,
   "id": "70d3b177-2a52-4a0a-b41a-38fd4c8e6ce1",
   "metadata": {},
   "outputs": [
    {
     "name": "stdout",
     "output_type": "stream",
     "text": [
      "       banana       \n"
     ]
    }
   ],
   "source": [
    "txt = \"banana\"\n",
    "x = txt.center(20)\n",
    "print(x)"
   ]
  },
  {
   "cell_type": "markdown",
   "id": "af10b286-d5d9-4b01-aa08-8f8a4f2cecd1",
   "metadata": {},
   "source": [
    "Using the letter \"O\" as the padding character:"
   ]
  },
  {
   "cell_type": "code",
   "execution_count": 133,
   "id": "7e719a24-a3f3-4c58-a377-d661342d8ff5",
   "metadata": {},
   "outputs": [
    {
     "name": "stdout",
     "output_type": "stream",
     "text": [
      "OOOOOOObananaOOOOOOO\n"
     ]
    }
   ],
   "source": [
    "txt = \"banana\"\n",
    "x = txt.center(20, \"O\")\n",
    "print(x)"
   ]
  },
  {
   "cell_type": "markdown",
   "id": "58cbfe2b-1b4f-4fa3-ba57-fb510cae8260",
   "metadata": {},
   "source": [
    "count() Method:"
   ]
  },
  {
   "cell_type": "markdown",
   "id": "adfd0ce5-e5ec-4e4e-a0b0-cff77f194e57",
   "metadata": {},
   "source": [
    "Return the number of times the value \"apple\" appears in the string:"
   ]
  },
  {
   "cell_type": "code",
   "execution_count": 137,
   "id": "d1e1458b-8584-429e-ba9f-257a75820ddd",
   "metadata": {},
   "outputs": [
    {
     "name": "stdout",
     "output_type": "stream",
     "text": [
      "2\n"
     ]
    }
   ],
   "source": [
    "txt = \"I love apples, apple are my favorite fruit\"\n",
    "x = txt.count(\"apple\")\n",
    "print(x)"
   ]
  },
  {
   "cell_type": "markdown",
   "id": "d8bb6d0c-2387-408d-970e-0a3c0631b20a",
   "metadata": {},
   "source": [
    "Search from position 10 to 24:"
   ]
  },
  {
   "cell_type": "code",
   "execution_count": 140,
   "id": "f280d499-3f98-401d-b1c4-43d6a24f48a4",
   "metadata": {},
   "outputs": [
    {
     "name": "stdout",
     "output_type": "stream",
     "text": [
      "1\n"
     ]
    }
   ],
   "source": [
    "txt = \"I love apples, apple are my favorite fruit\"\n",
    "x = txt.count(\"apple\", 10, 24)\n",
    "print(x)"
   ]
  },
  {
   "cell_type": "markdown",
   "id": "c2f73f92-f6f6-48e6-9d34-0a18480ad3c5",
   "metadata": {},
   "source": [
    "encode() Method:"
   ]
  },
  {
   "cell_type": "markdown",
   "id": "430a4eda-bd03-4d4f-b39f-bbc650699875",
   "metadata": {},
   "source": [
    "UTF-8 encode the string:"
   ]
  },
  {
   "cell_type": "code",
   "execution_count": 144,
   "id": "ed75c097-8ccc-4b0c-b110-4b44c16e6f06",
   "metadata": {},
   "outputs": [
    {
     "name": "stdout",
     "output_type": "stream",
     "text": [
      "b'My name is St\\xc3\\xa5le'\n"
     ]
    }
   ],
   "source": [
    "txt = \"My name is Ståle\"\n",
    "x = txt.encode()\n",
    "print(x)"
   ]
  },
  {
   "cell_type": "markdown",
   "id": "b94f9ed0-71a4-42a4-9adc-071a5a57ead9",
   "metadata": {},
   "source": [
    "endwith() Method:"
   ]
  },
  {
   "cell_type": "markdown",
   "id": "65761183-4f55-49cd-90b3-53484d555b6d",
   "metadata": {},
   "source": [
    "Check if the string ends with a punctuation sign (.):"
   ]
  },
  {
   "cell_type": "code",
   "execution_count": 28,
   "id": "d31c0c49-a682-4be7-9df7-05b9921a5a8d",
   "metadata": {},
   "outputs": [
    {
     "name": "stdout",
     "output_type": "stream",
     "text": [
      "True\n"
     ]
    }
   ],
   "source": [
    "txt = \"Hello, welcome to my world.\"\n",
    "x = txt.endswith(\".\")\n",
    "print(x)"
   ]
  },
  {
   "cell_type": "markdown",
   "id": "96de8f77-2997-4987-9356-7c05a304f5a6",
   "metadata": {},
   "source": [
    "Check if the string ends with the phrase \"my world.\":"
   ]
  },
  {
   "cell_type": "code",
   "execution_count": 21,
   "id": "110e6d7c-5dbc-4ae7-a7ee-506eb20239bf",
   "metadata": {},
   "outputs": [
    {
     "name": "stdout",
     "output_type": "stream",
     "text": [
      "True\n"
     ]
    }
   ],
   "source": [
    "txt = \"Hello, welcome to my world.\"\n",
    "x = txt.endswith(\"my world.\")\n",
    "print(x)"
   ]
  },
  {
   "cell_type": "markdown",
   "id": "b860485e-d01d-41bf-988c-bb2cbd71f3f2",
   "metadata": {},
   "source": [
    "Check if position 5 to 11 ends with the phrase \"my world.\":"
   ]
  },
  {
   "cell_type": "code",
   "execution_count": 23,
   "id": "91fea352-702d-4031-ac3a-106661a1eff5",
   "metadata": {},
   "outputs": [
    {
     "name": "stdout",
     "output_type": "stream",
     "text": [
      "False\n"
     ]
    }
   ],
   "source": [
    "txt = \"Hello, welcome to my world.\"\n",
    "x = txt.endswith(\"my world.\", 5, 11)\n",
    "print(x)"
   ]
  },
  {
   "cell_type": "markdown",
   "id": "87b35a16-e136-4f23-ba3e-e94ee6dcf8ff",
   "metadata": {},
   "source": [
    "Check if the string ends with either the phrase \"world.\" or \"castle.\":"
   ]
  },
  {
   "cell_type": "code",
   "execution_count": 34,
   "id": "4cb8de04-808f-4258-bace-7b96652997cc",
   "metadata": {},
   "outputs": [
    {
     "name": "stdout",
     "output_type": "stream",
     "text": [
      "True\n"
     ]
    }
   ],
   "source": [
    "txt = \"Hello, welcome to my castle.\"\n",
    "x = txt.endswith((\"world.\", \"castle.\"))\n",
    "print(x)"
   ]
  },
  {
   "cell_type": "markdown",
   "id": "6079a04e-d540-43fc-8384-fdb72c69b60e",
   "metadata": {},
   "source": [
    "Set the tab size to 2 whitespaces:"
   ]
  },
  {
   "cell_type": "code",
   "execution_count": 59,
   "id": "6825f374-bef7-4e02-825e-26b012390955",
   "metadata": {},
   "outputs": [
    {
     "name": "stdout",
     "output_type": "stream",
     "text": [
      "H e l l o\n"
     ]
    }
   ],
   "source": [
    "txt = \"H\\te\\tl\\tl\\to\"\n",
    "x =  txt.expandtabs(2)\n",
    "print(x)"
   ]
  },
  {
   "cell_type": "markdown",
   "id": "c96b7f13-4c4a-4099-94f1-2c59c705dee6",
   "metadata": {},
   "source": [
    "See the result using different tab sizes:"
   ]
  },
  {
   "cell_type": "code",
   "execution_count": 62,
   "id": "0d551085-6f3b-4726-a26b-9b08276f324f",
   "metadata": {},
   "outputs": [
    {
     "name": "stdout",
     "output_type": "stream",
     "text": [
      "H\te\tl\tl\to\n",
      "H       e       l       l       o\n",
      "H e l l o\n",
      "H   e   l   l   o\n",
      "H         e         l         l         o\n"
     ]
    }
   ],
   "source": [
    "txt = \"H\\te\\tl\\tl\\to\"\n",
    "print(txt)\n",
    "print(txt.expandtabs())\n",
    "print(txt.expandtabs(2))\n",
    "print(txt.expandtabs(4))\n",
    "print(txt.expandtabs(10))"
   ]
  },
  {
   "cell_type": "markdown",
   "id": "329aaaa0-aad9-45e2-8272-f3d7b7c4153b",
   "metadata": {},
   "source": [
    "Where in the text is the word \"welcome\"?"
   ]
  },
  {
   "cell_type": "code",
   "execution_count": 65,
   "id": "81177dc2-51cb-4c55-beb8-2af258b9386a",
   "metadata": {},
   "outputs": [
    {
     "name": "stdout",
     "output_type": "stream",
     "text": [
      "7\n"
     ]
    }
   ],
   "source": [
    "txt = \"Hello, welcome to my world.\"\n",
    "x = txt.find(\"welcome\")\n",
    "print(x)"
   ]
  },
  {
   "cell_type": "markdown",
   "id": "9dd5f62c-1ce4-481d-847e-ff642cc85a92",
   "metadata": {},
   "source": [
    "Where in the text is the first occurrence of the letter \"e\"?:"
   ]
  },
  {
   "cell_type": "code",
   "execution_count": 68,
   "id": "93d82c65-9488-4384-b0c4-ffa1d14d1abf",
   "metadata": {},
   "outputs": [
    {
     "name": "stdout",
     "output_type": "stream",
     "text": [
      "1\n"
     ]
    }
   ],
   "source": [
    "txt = \"Hello, welcome to my world.\"\n",
    "x = txt.find(\"e\")\n",
    "print(x)"
   ]
  },
  {
   "cell_type": "markdown",
   "id": "45b2dc27-912d-4558-b7dc-67596e1053e5",
   "metadata": {},
   "source": [
    "Where in the text is the first occurrence of the letter \"e\" when you only search between position 5 and 10?:"
   ]
  },
  {
   "cell_type": "code",
   "execution_count": 71,
   "id": "16a4b7c1-41b2-4003-9b2e-bf4688a67407",
   "metadata": {},
   "outputs": [
    {
     "name": "stdout",
     "output_type": "stream",
     "text": [
      "8\n"
     ]
    }
   ],
   "source": [
    "txt = \"Hello, welcome to my world.\"\n",
    "x = txt.find(\"e\", 5, 10)\n",
    "print(x)"
   ]
  },
  {
   "cell_type": "markdown",
   "id": "3a7b9886-1fe4-49f8-9edc-1be3dd656a8d",
   "metadata": {},
   "source": [
    "Insert the price inside the placeholder, the price should be in fixed point, two-decimal format:"
   ]
  },
  {
   "cell_type": "code",
   "execution_count": 83,
   "id": "16826291-f3d8-4dd5-8115-2534d0a9a6c4",
   "metadata": {},
   "outputs": [
    {
     "name": "stdout",
     "output_type": "stream",
     "text": [
      "For only 49.00 dollars!\n"
     ]
    }
   ],
   "source": [
    "txt = \"For only {price:.2f} dollars!\"\n",
    "print(txt.format(price = 49))"
   ]
  },
  {
   "cell_type": "markdown",
   "id": "67c649f3-3543-4e97-ac28-f183f7102f1c",
   "metadata": {},
   "source": [
    "Using different placeholder values:"
   ]
  },
  {
   "cell_type": "code",
   "execution_count": 88,
   "id": "2b9f4e9b-2806-4f80-97e6-fc8057f5cab9",
   "metadata": {},
   "outputs": [],
   "source": [
    "txt1 = \"My name is {fname}, I'm {age}\".format(fname = \"John\", age = 36)\n",
    "txt2 = \"My name is {0}, I'm {1}\".format(\"John\",36)\n",
    "txt3 = \"My name is {}, I'm {}\".format(\"John\",36)"
   ]
  },
  {
   "cell_type": "markdown",
   "id": "74b9df16-a500-4561-bb11-6e60da49ea0d",
   "metadata": {},
   "source": [
    "index() Method:"
   ]
  },
  {
   "cell_type": "markdown",
   "id": "9629fa72-5b43-4bcc-8689-423735e2b168",
   "metadata": {},
   "source": [
    "Where in the text is the word \"welcome\"?:"
   ]
  },
  {
   "cell_type": "code",
   "execution_count": 94,
   "id": "27c19186-f179-4611-8800-876a4c0d4ad5",
   "metadata": {},
   "outputs": [
    {
     "name": "stdout",
     "output_type": "stream",
     "text": [
      "7\n"
     ]
    }
   ],
   "source": [
    "txt = \"Hello, welcome to my world.\"\n",
    "x = txt.index(\"welcome\")\n",
    "print(x)"
   ]
  },
  {
   "cell_type": "markdown",
   "id": "115be3cf-1b24-4731-85cd-e92c41fe2b7e",
   "metadata": {},
   "source": [
    "Where in the text is the first occurrence of the letter \"e\"?:"
   ]
  },
  {
   "cell_type": "code",
   "execution_count": 98,
   "id": "d763c0c1-9810-4ed5-80ff-b749c0c9903d",
   "metadata": {},
   "outputs": [
    {
     "name": "stdout",
     "output_type": "stream",
     "text": [
      "1\n"
     ]
    }
   ],
   "source": [
    "txt = \"Hello, welcome to my world.\"\n",
    "x = txt.index(\"e\")\n",
    "print(x)"
   ]
  },
  {
   "cell_type": "markdown",
   "id": "7ffe6f8e-0da1-45dd-ae56-0af7f3957dc4",
   "metadata": {},
   "source": [
    "Where in the text is the first occurrence of the letter \"e\" when you only search between position 5 and 10?:"
   ]
  },
  {
   "cell_type": "code",
   "execution_count": 101,
   "id": "e25007a9-b156-4d9f-b23f-1fd3e56ced08",
   "metadata": {},
   "outputs": [
    {
     "name": "stdout",
     "output_type": "stream",
     "text": [
      "8\n"
     ]
    }
   ],
   "source": [
    "txt = \"Hello, welcome to my world.\"\n",
    "x = txt.index(\"e\", 5, 10)\n",
    "print(x)"
   ]
  },
  {
   "cell_type": "markdown",
   "id": "255a8c32-74fe-4afd-8abe-2f29cce91e9c",
   "metadata": {},
   "source": [
    "If the value is not found, the find() method returns -1, but the index() method will raise an exception:"
   ]
  },
  {
   "cell_type": "code",
   "execution_count": 106,
   "id": "f411ac08-1432-4081-b62f-9a88752bb122",
   "metadata": {},
   "outputs": [
    {
     "name": "stdout",
     "output_type": "stream",
     "text": [
      "-1\n"
     ]
    },
    {
     "ename": "ValueError",
     "evalue": "substring not found",
     "output_type": "error",
     "traceback": [
      "\u001b[1;31m---------------------------------------------------------------------------\u001b[0m",
      "\u001b[1;31mValueError\u001b[0m                                Traceback (most recent call last)",
      "Cell \u001b[1;32mIn[106], line 3\u001b[0m\n\u001b[0;32m      1\u001b[0m txt \u001b[38;5;241m=\u001b[39m \u001b[38;5;124m\"\u001b[39m\u001b[38;5;124mHello, welcome to my world.\u001b[39m\u001b[38;5;124m\"\u001b[39m\n\u001b[0;32m      2\u001b[0m \u001b[38;5;28mprint\u001b[39m(txt\u001b[38;5;241m.\u001b[39mfind(\u001b[38;5;124m\"\u001b[39m\u001b[38;5;124mq\u001b[39m\u001b[38;5;124m\"\u001b[39m))\n\u001b[1;32m----> 3\u001b[0m \u001b[38;5;28mprint\u001b[39m(txt\u001b[38;5;241m.\u001b[39mindex(\u001b[38;5;124m\"\u001b[39m\u001b[38;5;124mq\u001b[39m\u001b[38;5;124m\"\u001b[39m))\n",
      "\u001b[1;31mValueError\u001b[0m: substring not found"
     ]
    }
   ],
   "source": [
    "txt = \"Hello, welcome to my world.\"\n",
    "print(txt.find(\"q\"))\n",
    "print(txt.index(\"q\"))"
   ]
  },
  {
   "cell_type": "markdown",
   "id": "e37144e3-e9ff-4fbe-aa47-db89daf46290",
   "metadata": {},
   "source": [
    "isalnum() Method:"
   ]
  },
  {
   "cell_type": "markdown",
   "id": "c8a2f1cb-f946-4fc8-93c8-7719c4e1f348",
   "metadata": {},
   "source": [
    "Check if all the characters in the text are alphanumeric:"
   ]
  },
  {
   "cell_type": "code",
   "execution_count": 113,
   "id": "cc3a5649-ec15-4176-85c6-4ad071b2335d",
   "metadata": {},
   "outputs": [
    {
     "name": "stdout",
     "output_type": "stream",
     "text": [
      "True\n"
     ]
    }
   ],
   "source": [
    "txt = \"Company12\"\n",
    "x = txt.isalnum()\n",
    "print(x)"
   ]
  },
  {
   "cell_type": "code",
   "execution_count": 117,
   "id": "4e9214fd-e79c-4e73-83d9-4ba6c8f0fac5",
   "metadata": {},
   "outputs": [
    {
     "name": "stdout",
     "output_type": "stream",
     "text": [
      "False\n"
     ]
    }
   ],
   "source": [
    "txt = \"Company 12\" #because of the \" \" char\n",
    "x = txt.isalnum()\n",
    "print(x)"
   ]
  },
  {
   "cell_type": "markdown",
   "id": "7442ecca-95fd-4fcd-bbec-d50f9d2fcfe9",
   "metadata": {},
   "source": [
    "isalpha() Method:"
   ]
  },
  {
   "cell_type": "markdown",
   "id": "83ae8d3c-c419-460d-aaf1-46940837c0e1",
   "metadata": {},
   "source": [
    "Check if all the characters in the text is alphabetic:"
   ]
  },
  {
   "cell_type": "code",
   "execution_count": 123,
   "id": "20d2de76-6913-487b-92c5-336eb0bde6da",
   "metadata": {},
   "outputs": [
    {
     "name": "stdout",
     "output_type": "stream",
     "text": [
      "True\n"
     ]
    }
   ],
   "source": [
    "txt = \"CompanyX\"\n",
    "x = txt.isalpha()\n",
    "print(x)"
   ]
  },
  {
   "cell_type": "code",
   "execution_count": 128,
   "id": "edaa3771-72df-40ab-9f9e-df555a686ca4",
   "metadata": {},
   "outputs": [
    {
     "name": "stdout",
     "output_type": "stream",
     "text": [
      "False\n"
     ]
    }
   ],
   "source": [
    "txt = \"Company10\" #10\n",
    "x = txt.isalpha()\n",
    "print(x)"
   ]
  },
  {
   "cell_type": "markdown",
   "id": "ef3a577b-95b9-4082-b3de-63db31e2b517",
   "metadata": {},
   "source": [
    "isascii() Method:"
   ]
  },
  {
   "cell_type": "markdown",
   "id": "f258002b-541f-4e1f-b5fa-7bcc44f203e5",
   "metadata": {},
   "source": [
    "Check if all the characters in the text are ascii characters:"
   ]
  },
  {
   "cell_type": "code",
   "execution_count": 132,
   "id": "6e5080de-bb3b-4f4f-9c70-05fc1054abd1",
   "metadata": {},
   "outputs": [
    {
     "name": "stdout",
     "output_type": "stream",
     "text": [
      "True\n"
     ]
    }
   ],
   "source": [
    "txt = \"Company123\"\n",
    "x = txt.isascii()\n",
    "print(x)"
   ]
  },
  {
   "cell_type": "markdown",
   "id": "17d5b72f-2fc6-428e-a484-575b2f198948",
   "metadata": {},
   "source": [
    "isdecimal() Method:"
   ]
  },
  {
   "cell_type": "markdown",
   "id": "43df00cd-096b-4dc9-a0dd-83f76414d09b",
   "metadata": {},
   "source": [
    "Check if all the characters in a string are decimals (0-9):"
   ]
  },
  {
   "cell_type": "code",
   "execution_count": 138,
   "id": "396e69b4-ba43-436b-a591-827036c605f2",
   "metadata": {},
   "outputs": [
    {
     "name": "stdout",
     "output_type": "stream",
     "text": [
      "True\n"
     ]
    }
   ],
   "source": [
    "txt = \"1234\"\n",
    "x = txt.isdecimal()\n",
    "print(x)"
   ]
  },
  {
   "cell_type": "code",
   "execution_count": 143,
   "id": "29eb0843-9f9f-40e0-bae4-df2e3086ce86",
   "metadata": {},
   "outputs": [
    {
     "name": "stdout",
     "output_type": "stream",
     "text": [
      "True\n",
      "False\n"
     ]
    }
   ],
   "source": [
    "a = \"\\u0030\" #unicode for 0\n",
    "b = \"\\u0047\" #unicode for G\n",
    "print(a.isdecimal())\n",
    "print(b.isdecimal())"
   ]
  },
  {
   "cell_type": "markdown",
   "id": "01e412d5-4cc5-42bc-840c-7b1c0f3bbc35",
   "metadata": {},
   "source": [
    "isdigit() Method:"
   ]
  },
  {
   "cell_type": "markdown",
   "id": "ab090194-12b5-4e98-9234-16ff0021005a",
   "metadata": {},
   "source": [
    "Check if all the characters in the text are digits:"
   ]
  },
  {
   "cell_type": "code",
   "execution_count": 147,
   "id": "75a8ea75-be4c-426a-9a37-235234431fe0",
   "metadata": {},
   "outputs": [
    {
     "name": "stdout",
     "output_type": "stream",
     "text": [
      "True\n"
     ]
    }
   ],
   "source": [
    "txt = \"50800\"\n",
    "x = txt.isdigit()\n",
    "print(x)"
   ]
  },
  {
   "cell_type": "code",
   "execution_count": 154,
   "id": "20e74e02-c8e5-4aba-97e2-3d0ac3b0ba73",
   "metadata": {},
   "outputs": [
    {
     "name": "stdout",
     "output_type": "stream",
     "text": [
      "True\n",
      "True\n"
     ]
    }
   ],
   "source": [
    "a = \"\\u0030\" #unicode for 0\n",
    "b = \"\\u00B2\" #unicode for ²\n",
    "print(a.isdigit())\n",
    "print(b.isdigit())"
   ]
  },
  {
   "cell_type": "markdown",
   "id": "433dcb93-1be9-4403-baf2-7312437e87a4",
   "metadata": {},
   "source": [
    "isidentifier() Method:"
   ]
  },
  {
   "cell_type": "markdown",
   "id": "72a2464e-bd07-446f-a5b6-86ee9f0bc205",
   "metadata": {},
   "source": [
    "Check if the string is a valid identifier:"
   ]
  },
  {
   "cell_type": "code",
   "execution_count": 158,
   "id": "c9c0c83d-547a-4aec-be60-f42055f0c45e",
   "metadata": {},
   "outputs": [
    {
     "name": "stdout",
     "output_type": "stream",
     "text": [
      "True\n"
     ]
    }
   ],
   "source": [
    "txt = \"Demo\"\n",
    "x = txt.isidentifier()\n",
    "print(x)"
   ]
  },
  {
   "cell_type": "code",
   "execution_count": 161,
   "id": "23427887-c874-4de1-b899-75eac4ec1f5f",
   "metadata": {},
   "outputs": [
    {
     "name": "stdout",
     "output_type": "stream",
     "text": [
      "True\n",
      "True\n",
      "False\n",
      "False\n"
     ]
    }
   ],
   "source": [
    "a = \"MyFolder\"\n",
    "b = \"Demo002\"\n",
    "c = \"2bring\"\n",
    "d = \"my demo\"\n",
    "print(a.isidentifier())\n",
    "print(b.isidentifier())\n",
    "print(c.isidentifier())\n",
    "print(d.isidentifier())"
   ]
  },
  {
   "cell_type": "markdown",
   "id": "e2556c57-fbe5-4fde-a024-468a18c24145",
   "metadata": {},
   "source": [
    "islower() Method:"
   ]
  },
  {
   "cell_type": "markdown",
   "id": "2f70e75f-47c7-4727-be2c-3b0f4a937ee3",
   "metadata": {},
   "source": [
    "Check if all the characters in the text are in lower case:"
   ]
  },
  {
   "cell_type": "code",
   "execution_count": 167,
   "id": "3ddfc9e9-02d1-493c-9c4a-a926fe6451ff",
   "metadata": {},
   "outputs": [
    {
     "name": "stdout",
     "output_type": "stream",
     "text": [
      "True\n"
     ]
    }
   ],
   "source": [
    "txt = \"hello world!\"\n",
    "x = txt.islower()\n",
    "print(x)"
   ]
  },
  {
   "cell_type": "code",
   "execution_count": 170,
   "id": "3a54397c-c458-458f-a518-10990590bb83",
   "metadata": {},
   "outputs": [
    {
     "name": "stdout",
     "output_type": "stream",
     "text": [
      "False\n",
      "True\n",
      "False\n"
     ]
    }
   ],
   "source": [
    "a = \"Hello world!\"\n",
    "b = \"hello 123\"\n",
    "c = \"mynameisPeter\"\n",
    "print(a.islower())\n",
    "print(b.islower())\n",
    "print(c.islower())"
   ]
  },
  {
   "cell_type": "markdown",
   "id": "4b8a3161-c379-4bca-8b4a-47a51cc5fd29",
   "metadata": {},
   "source": [
    "isnumeric() Method:"
   ]
  },
  {
   "cell_type": "markdown",
   "id": "26ef6d52-35f0-4480-b696-5957ff6ec38f",
   "metadata": {},
   "source": [
    "Check if all the characters in the text are numeric:"
   ]
  },
  {
   "cell_type": "code",
   "execution_count": 175,
   "id": "3560342d-d83c-4715-9ecb-f804354d1917",
   "metadata": {},
   "outputs": [
    {
     "name": "stdout",
     "output_type": "stream",
     "text": [
      "True\n"
     ]
    }
   ],
   "source": [
    "txt = \"565543\"\n",
    "x = txt.isnumeric()\n",
    "print(x)"
   ]
  },
  {
   "cell_type": "markdown",
   "id": "231b9da3-46c7-4982-8c01-c56090f58cb4",
   "metadata": {},
   "source": [
    "Check if the characters are numeric:"
   ]
  },
  {
   "cell_type": "code",
   "execution_count": 182,
   "id": "2858b84e-6300-4f92-b086-c9d64144757a",
   "metadata": {},
   "outputs": [
    {
     "name": "stdout",
     "output_type": "stream",
     "text": [
      "True\n",
      "True\n",
      "False\n",
      "False\n",
      "False\n"
     ]
    }
   ],
   "source": [
    "a = \"\\u0030\" #unicode for 0\n",
    "b = \"\\u00B2\" #unicode for &sup2;\n",
    "c = \"10km2\" \"km\"\n",
    "d = \"-1\" # \"-\"\n",
    "e = \"1.5\" # \".\"\n",
    "print(a.isnumeric())\n",
    "print(b.isnumeric())\n",
    "print(c.isnumeric())\n",
    "print(d.isnumeric())\n",
    "print(e.isnumeric())"
   ]
  },
  {
   "cell_type": "markdown",
   "id": "64225db4-e595-4989-81b2-8a14d05f8290",
   "metadata": {},
   "source": [
    "isprintable() Method:"
   ]
  },
  {
   "cell_type": "markdown",
   "id": "31ad212e-b08c-4bd3-a176-d6edb5d1d49e",
   "metadata": {},
   "source": [
    "Check if all the characters in the text are printable:"
   ]
  },
  {
   "cell_type": "code",
   "execution_count": 186,
   "id": "f2d3f044-c218-4fb0-8547-4e59bcbad8a6",
   "metadata": {},
   "outputs": [
    {
     "name": "stdout",
     "output_type": "stream",
     "text": [
      "True\n"
     ]
    }
   ],
   "source": [
    "txt = \"Hello! Are you #1?\"\n",
    "x = txt.isprintable()\n",
    "print(x)"
   ]
  },
  {
   "cell_type": "code",
   "execution_count": 188,
   "id": "e34d0df3-3da9-43da-ba97-d20035ca1523",
   "metadata": {},
   "outputs": [
    {
     "name": "stdout",
     "output_type": "stream",
     "text": [
      "False\n"
     ]
    }
   ],
   "source": [
    "txt = \"Hello!\\nAre you #1?\"\n",
    "x = txt.isprintable()\n",
    "print(x)"
   ]
  },
  {
   "cell_type": "markdown",
   "id": "19bd51b6-410e-4acf-8551-c0e6689e31a3",
   "metadata": {},
   "source": [
    "isspace() Method:"
   ]
  },
  {
   "cell_type": "markdown",
   "id": "2b8ba71e-f581-43c8-a2a7-ccf5c0ebbb29",
   "metadata": {},
   "source": [
    "Check if all the characters in the text are whitespaces:"
   ]
  },
  {
   "cell_type": "code",
   "execution_count": 2,
   "id": "f10e0dbf-21d5-45bf-ab4b-8d3b677ef4a3",
   "metadata": {},
   "outputs": [
    {
     "name": "stdout",
     "output_type": "stream",
     "text": [
      "True\n"
     ]
    }
   ],
   "source": [
    "txt = \"   \"\n",
    "x = txt.isspace()\n",
    "print(x)"
   ]
  },
  {
   "cell_type": "code",
   "execution_count": 4,
   "id": "cd7c0c8c-3c6e-401b-a158-ad80f11172be",
   "metadata": {},
   "outputs": [
    {
     "name": "stdout",
     "output_type": "stream",
     "text": [
      "False\n"
     ]
    }
   ],
   "source": [
    "txt = \"   s   \"\n",
    "x = txt.isspace()\n",
    "print(x)"
   ]
  },
  {
   "cell_type": "markdown",
   "id": "73f544a0-3bff-435f-820d-ad142c2411a5",
   "metadata": {},
   "source": [
    "istitle() Method:"
   ]
  },
  {
   "cell_type": "markdown",
   "id": "fa079f65-54c0-4c3a-9797-47f059eb7867",
   "metadata": {},
   "source": [
    "Check if each word start with an upper case letter:"
   ]
  },
  {
   "cell_type": "code",
   "execution_count": 8,
   "id": "1cd458d4-7069-48e7-8b1e-080cc725565e",
   "metadata": {},
   "outputs": [
    {
     "name": "stdout",
     "output_type": "stream",
     "text": [
      "True\n"
     ]
    }
   ],
   "source": [
    "txt = \"Hello, And Welcome To My World!\"\n",
    "x = txt.istitle()\n",
    "print(x)"
   ]
  },
  {
   "cell_type": "code",
   "execution_count": 10,
   "id": "fc3f9d3e-98c6-4d08-b6f2-4ecc0bde6787",
   "metadata": {},
   "outputs": [
    {
     "name": "stdout",
     "output_type": "stream",
     "text": [
      "False\n",
      "True\n",
      "True\n",
      "True\n"
     ]
    }
   ],
   "source": [
    "a = \"HELLO, AND WELCOME TO MY WORLD\"\n",
    "b = \"Hello\"\n",
    "c = \"22 Names\"\n",
    "d = \"This Is %'!?\"\n",
    "print(a.istitle())\n",
    "print(b.istitle())\n",
    "print(c.istitle())\n",
    "print(d.istitle())"
   ]
  },
  {
   "cell_type": "markdown",
   "id": "d3ef1dc1-1ffd-4732-bcf7-a25ded0a5745",
   "metadata": {},
   "source": [
    "isupper() Method:"
   ]
  },
  {
   "cell_type": "markdown",
   "id": "5c79eab6-59ef-4355-b4a1-e565cd915e37",
   "metadata": {},
   "source": [
    "Check if all the characters in the text are in upper case:"
   ]
  },
  {
   "cell_type": "code",
   "execution_count": 16,
   "id": "c45f4e95-6ce2-4dbe-9bc8-0f76b06c75a9",
   "metadata": {},
   "outputs": [
    {
     "name": "stdout",
     "output_type": "stream",
     "text": [
      "True\n"
     ]
    }
   ],
   "source": [
    "txt = \"THIS IS NOW!\"\n",
    "x = txt.isupper()\n",
    "print(x)"
   ]
  },
  {
   "cell_type": "code",
   "execution_count": 18,
   "id": "db26e387-c47b-4fc3-9bb5-9363617e4a93",
   "metadata": {},
   "outputs": [
    {
     "name": "stdout",
     "output_type": "stream",
     "text": [
      "False\n",
      "False\n",
      "True\n"
     ]
    }
   ],
   "source": [
    "a = \"Hello World!\"\n",
    "b = \"hello 123\"\n",
    "c = \"MY NAME IS PETER\"\n",
    "print(a.isupper())\n",
    "print(b.isupper())\n",
    "print(c.isupper())"
   ]
  },
  {
   "cell_type": "markdown",
   "id": "3b06a972-a96e-41a6-a7a3-dd457acdd9e4",
   "metadata": {},
   "source": [
    "join() Method:"
   ]
  },
  {
   "cell_type": "markdown",
   "id": "bc3c2b0a-68d9-4985-ba51-9f0d9d24f24f",
   "metadata": {},
   "source": [
    "Join all items in a tuple into a string, using a hash character as separator:"
   ]
  },
  {
   "cell_type": "code",
   "execution_count": 24,
   "id": "15f350db-a961-4898-b2dd-1d0fba93c47f",
   "metadata": {},
   "outputs": [
    {
     "name": "stdout",
     "output_type": "stream",
     "text": [
      "John#Peter#Vicky\n"
     ]
    }
   ],
   "source": [
    "myTuple = (\"John\", \"Peter\", \"Vicky\")\n",
    "x = \"#\".join(myTuple)\n",
    "print(x)"
   ]
  },
  {
   "cell_type": "markdown",
   "id": "b0e95e9f-7236-439c-98e0-f27dd60efea5",
   "metadata": {},
   "source": [
    "Join all items in a dictionary into a string, using the word \"TEST\" as separator:"
   ]
  },
  {
   "cell_type": "code",
   "execution_count": 27,
   "id": "fa48c8b3-277c-42b5-ac30-20c090090cb6",
   "metadata": {},
   "outputs": [
    {
     "name": "stdout",
     "output_type": "stream",
     "text": [
      "nameTESTcountry\n"
     ]
    }
   ],
   "source": [
    "myDict = {\"name\": \"John\", \"country\": \"Norway\"}\n",
    "mySeparator = \"TEST\"\n",
    "x = mySeparator.join(myDict)\n",
    "print(x)"
   ]
  },
  {
   "cell_type": "markdown",
   "id": "6619e2a8-7878-4525-8f94-72e8f6fe2c73",
   "metadata": {},
   "source": [
    "ljust() Method:"
   ]
  },
  {
   "cell_type": "markdown",
   "id": "28bf4b6d-46cf-4bf1-885f-81c2eb9f5133",
   "metadata": {},
   "source": [
    "Return a 20 characters long, left justified version of the word \"banana\":"
   ]
  },
  {
   "cell_type": "code",
   "execution_count": 37,
   "id": "27efe530-7334-41c1-80f5-ac1c9d9a5b78",
   "metadata": {},
   "outputs": [
    {
     "name": "stdout",
     "output_type": "stream",
     "text": [
      "banana               is my favorite fruit.\n"
     ]
    }
   ],
   "source": [
    "txt = \"banana\"\n",
    "x = txt.ljust(20)\n",
    "print(x, \"is my favorite fruit.\")"
   ]
  },
  {
   "cell_type": "markdown",
   "id": "cf119351-a0a3-4514-bc17-698fa2f000ac",
   "metadata": {},
   "source": [
    "Using the letter \"O\" as the padding character:"
   ]
  },
  {
   "cell_type": "code",
   "execution_count": 40,
   "id": "9c26e18f-e4d6-40d7-a301-47fd7be3698c",
   "metadata": {},
   "outputs": [
    {
     "name": "stdout",
     "output_type": "stream",
     "text": [
      "bananaOOOOOOOOOOOOOO\n"
     ]
    }
   ],
   "source": [
    "txt = \"banana\"\n",
    "x = txt.ljust(20, \"O\")\n",
    "print(x)"
   ]
  },
  {
   "cell_type": "markdown",
   "id": "e2a8bc5b-baef-4e81-a7a0-026a413a0967",
   "metadata": {},
   "source": [
    "lower() Method:"
   ]
  },
  {
   "cell_type": "markdown",
   "id": "0c940525-8a28-4b37-8ad5-84a995b90a2b",
   "metadata": {},
   "source": [
    "Lower case the string:"
   ]
  },
  {
   "cell_type": "code",
   "execution_count": 46,
   "id": "6cc773d9-e38e-447f-821b-3e2f8071c7dd",
   "metadata": {},
   "outputs": [
    {
     "name": "stdout",
     "output_type": "stream",
     "text": [
      "hello my friends\n"
     ]
    }
   ],
   "source": [
    "txt = \"Hello my FRIENDS\"\n",
    "x = txt.lower()\n",
    "print(x)"
   ]
  },
  {
   "cell_type": "markdown",
   "id": "2047ea43-2cc5-48eb-aeee-9eb4a24840f2",
   "metadata": {},
   "source": [
    "lstrip() Method:"
   ]
  },
  {
   "cell_type": "markdown",
   "id": "6586bde4-f38f-487b-9aeb-86e609d2bcf8",
   "metadata": {},
   "source": [
    "Remove spaces to the left of the string:"
   ]
  },
  {
   "cell_type": "code",
   "execution_count": 50,
   "id": "c1cab987-6eb8-406f-a4d5-7e85d4ab2f75",
   "metadata": {},
   "outputs": [
    {
     "name": "stdout",
     "output_type": "stream",
     "text": [
      "of all fruits banana      is my favorite\n"
     ]
    }
   ],
   "source": [
    "txt = \"     banana     \"\n",
    "x = txt.lstrip()\n",
    "print(\"of all fruits\", x, \"is my favorite\")"
   ]
  },
  {
   "cell_type": "markdown",
   "id": "1a62357a-4fd2-4a66-a303-6ee1d1d80f54",
   "metadata": {},
   "source": [
    "Remove the leading characters:"
   ]
  },
  {
   "cell_type": "code",
   "execution_count": 53,
   "id": "c0fd2156-3a32-41e4-8f41-3920c78f8d79",
   "metadata": {},
   "outputs": [
    {
     "name": "stdout",
     "output_type": "stream",
     "text": [
      "banana\n"
     ]
    }
   ],
   "source": [
    "txt = \",,,,,ssaaww.....banana\"\n",
    "x = txt.lstrip(\",.asw\")\n",
    "print(x)"
   ]
  },
  {
   "cell_type": "markdown",
   "id": "06f302eb-ec3c-4ccf-bd24-798533ff646b",
   "metadata": {},
   "source": [
    "maketrans() Method:"
   ]
  },
  {
   "cell_type": "markdown",
   "id": "98450216-70d8-45b0-842b-78b5bf733767",
   "metadata": {},
   "source": [
    "Create a mapping table, and use it in the translate() method to replace any \"S\" characters with a \"P\" character:"
   ]
  },
  {
   "cell_type": "code",
   "execution_count": 57,
   "id": "22eeb3aa-9d93-4d57-8834-04ecbebf4f05",
   "metadata": {},
   "outputs": [
    {
     "name": "stdout",
     "output_type": "stream",
     "text": [
      "Hello Pam!\n"
     ]
    }
   ],
   "source": [
    "txt = \"Hello Sam!\"\n",
    "mytable = str.maketrans(\"S\", \"P\")\n",
    "print(txt.translate(mytable))"
   ]
  },
  {
   "cell_type": "markdown",
   "id": "0a8ef7f4-2b95-4ae4-92fe-66504e739187",
   "metadata": {},
   "source": [
    "Use a mapping table to replace many characters:"
   ]
  },
  {
   "cell_type": "code",
   "execution_count": 60,
   "id": "87ae9939-6c4a-47b5-a3b2-527b5364ced1",
   "metadata": {},
   "outputs": [
    {
     "name": "stdout",
     "output_type": "stream",
     "text": [
      "Hi Joe!\n"
     ]
    }
   ],
   "source": [
    "txt = \"Hi Sam!\"\n",
    "x = \"mSa\"\n",
    "y = \"eJo\"\n",
    "mytable = str.maketrans(x, y)\n",
    "print(txt.translate(mytable))"
   ]
  },
  {
   "cell_type": "markdown",
   "id": "e1e60da2-b2e4-4458-b121-80661bcbf936",
   "metadata": {},
   "source": [
    "The third parameter in the mapping table describes characters that you want to remove from the string:"
   ]
  },
  {
   "cell_type": "code",
   "execution_count": 63,
   "id": "4bfbaeda-e83f-4375-b950-0141b662e198",
   "metadata": {},
   "outputs": [
    {
     "name": "stdout",
     "output_type": "stream",
     "text": [
      "G i Joe!\n"
     ]
    }
   ],
   "source": [
    "txt = \"Good night Sam!\"\n",
    "x = \"mSa\"\n",
    "y = \"eJo\"\n",
    "z = \"odnght\"\n",
    "mytable = str.maketrans(x, y, z)\n",
    "print(txt.translate(mytable))"
   ]
  },
  {
   "cell_type": "markdown",
   "id": "d679a14f-e092-47fb-8c90-42e772fb886c",
   "metadata": {},
   "source": [
    "The maketrans() method itself returns a dictionary describing each replacement, in unicode:"
   ]
  },
  {
   "cell_type": "code",
   "execution_count": 66,
   "id": "dc053cc7-4d3e-4d41-83e2-c2ff1ac43c01",
   "metadata": {},
   "outputs": [
    {
     "name": "stdout",
     "output_type": "stream",
     "text": [
      "{109: 101, 83: 74, 97: 111, 111: None, 100: None, 110: None, 103: None, 104: None, 116: None}\n"
     ]
    }
   ],
   "source": [
    "txt = \"Good night Sam!\"\n",
    "x = \"mSa\"\n",
    "y = \"eJo\"\n",
    "z = \"odnght\"\n",
    "print(str.maketrans(x, y, z))"
   ]
  },
  {
   "cell_type": "markdown",
   "id": "c475db40-16aa-4d98-9388-f73378df3771",
   "metadata": {},
   "source": [
    "partition() Method:"
   ]
  },
  {
   "cell_type": "markdown",
   "id": "680f4fad-d47d-4535-bb61-a589fc00ceb0",
   "metadata": {},
   "source": [
    "Search for the word \"bananas\", and return a tuple with three elements:"
   ]
  },
  {
   "cell_type": "code",
   "execution_count": 70,
   "id": "5491f18f-4874-4176-92d1-244c8ff76981",
   "metadata": {},
   "outputs": [
    {
     "name": "stdout",
     "output_type": "stream",
     "text": [
      "('I could eat ', 'bananas', ' all day')\n"
     ]
    }
   ],
   "source": [
    "txt = \"I could eat bananas all day\"\n",
    "x = txt.partition(\"bananas\")\n",
    "print(x)"
   ]
  },
  {
   "cell_type": "markdown",
   "id": "d0c1bf78-6774-44f1-a035-efa440a9e7b2",
   "metadata": {},
   "source": [
    "If the specified value is not found, the partition() method returns a tuple containing: 1 - the whole string, 2 - an empty string, 3 - an empty string:"
   ]
  },
  {
   "cell_type": "code",
   "execution_count": 73,
   "id": "ff503d67-6105-45df-a7f1-fdce1a405f92",
   "metadata": {},
   "outputs": [
    {
     "name": "stdout",
     "output_type": "stream",
     "text": [
      "('I could eat bananas all day', '', '')\n"
     ]
    }
   ],
   "source": [
    "txt = \"I could eat bananas all day\"\n",
    "x = txt.partition(\"apples\")\n",
    "print(x)"
   ]
  },
  {
   "cell_type": "markdown",
   "id": "b5018878-476f-4b30-b5d7-2e71c4c34844",
   "metadata": {},
   "source": [
    "rsplit() Method:"
   ]
  },
  {
   "cell_type": "markdown",
   "id": "c4d1a5f7-7a11-481d-8b9c-164c75e98653",
   "metadata": {},
   "source": [
    "Split a string into a list, using comma, followed by a space (, ) as the separator:"
   ]
  },
  {
   "cell_type": "code",
   "execution_count": 79,
   "id": "3ca3f722-052e-4ae4-befd-8db322538a88",
   "metadata": {},
   "outputs": [
    {
     "name": "stdout",
     "output_type": "stream",
     "text": [
      "['apple', 'banana', 'cherry']\n"
     ]
    }
   ],
   "source": [
    "txt = \"apple, banana, cherry\"\n",
    "x = txt.rsplit(\", \")\n",
    "print(x)"
   ]
  },
  {
   "cell_type": "markdown",
   "id": "44b486ae-1bdb-41df-bfef-fddad1716e40",
   "metadata": {},
   "source": [
    "Split the string into a list with maximum 2 items:"
   ]
  },
  {
   "cell_type": "code",
   "execution_count": 82,
   "id": "414185cd-c031-4bbf-a341-dd4e39e59ce0",
   "metadata": {},
   "outputs": [
    {
     "name": "stdout",
     "output_type": "stream",
     "text": [
      "['apple, banana', 'cherry']\n"
     ]
    }
   ],
   "source": [
    "txt = \"apple, banana, cherry\"\n",
    "# setting the maxsplit parameter to 1, will return a list with 2 elements\n",
    "x = txt.rsplit(\", \", 1)\n",
    "print(x)"
   ]
  },
  {
   "cell_type": "markdown",
   "id": "49dcff3f-c2d4-4995-a75f-e1d816891586",
   "metadata": {},
   "source": [
    "split() Method:"
   ]
  },
  {
   "cell_type": "markdown",
   "id": "539527b4-7deb-4895-9198-133cb9c456c8",
   "metadata": {},
   "source": [
    "Split a string into a list where each word is a list item:"
   ]
  },
  {
   "cell_type": "code",
   "execution_count": 86,
   "id": "280b7c60-85a5-4ea9-b5e7-bf26a540bd0a",
   "metadata": {},
   "outputs": [
    {
     "name": "stdout",
     "output_type": "stream",
     "text": [
      "['welcome', 'to', 'the', 'jungle']\n"
     ]
    }
   ],
   "source": [
    "txt = \"welcome to the jungle\"\n",
    "x = txt.split()\n",
    "print(x)"
   ]
  },
  {
   "cell_type": "markdown",
   "id": "8b9e86d6-a721-4552-88ed-cd24b2dc0b1d",
   "metadata": {},
   "source": [
    "Split the string, using comma, followed by a space, as a separator:"
   ]
  },
  {
   "cell_type": "code",
   "execution_count": 89,
   "id": "929905e2-536d-49b6-91b3-14078be2cc7f",
   "metadata": {},
   "outputs": [
    {
     "name": "stdout",
     "output_type": "stream",
     "text": [
      "['hello', 'my name is Peter', 'I am 26 years old']\n"
     ]
    }
   ],
   "source": [
    "txt = \"hello, my name is Peter, I am 26 years old\"\n",
    "x = txt.split(\", \")\n",
    "print(x)"
   ]
  },
  {
   "cell_type": "markdown",
   "id": "addc51ab-0047-4d3d-b289-8a1c611e53b2",
   "metadata": {},
   "source": [
    "Use a hash character as a separator:"
   ]
  },
  {
   "cell_type": "code",
   "execution_count": 92,
   "id": "6972f590-6c61-4f49-996a-7a6151874156",
   "metadata": {},
   "outputs": [
    {
     "name": "stdout",
     "output_type": "stream",
     "text": [
      "['apple', 'banana', 'cherry', 'orange']\n"
     ]
    }
   ],
   "source": [
    "txt = \"apple#banana#cherry#orange\"\n",
    "x = txt.split(\"#\")\n",
    "print(x)"
   ]
  },
  {
   "cell_type": "markdown",
   "id": "ce5fba0f-c41a-4e41-9133-b69ac1cf3b4a",
   "metadata": {},
   "source": [
    "Split the string into a list with max 2 items:"
   ]
  },
  {
   "cell_type": "code",
   "execution_count": 103,
   "id": "4f67bc17-e49e-4acf-9c31-40f6863f4204",
   "metadata": {},
   "outputs": [
    {
     "name": "stdout",
     "output_type": "stream",
     "text": [
      "['apple', 'banana#cherry#orange']\n"
     ]
    }
   ],
   "source": [
    "txt = \"apple#banana#cherry#orange\"\n",
    "# setting the maxsplit parameter to 1, will return a list with 2 elements\n",
    "x = txt.split(\"#\", 1)\n",
    "print(x)"
   ]
  },
  {
   "cell_type": "markdown",
   "id": "270f3868-9069-40eb-91a6-27e42ed7db65",
   "metadata": {},
   "source": [
    "splitline() Method:"
   ]
  },
  {
   "cell_type": "code",
   "execution_count": 108,
   "id": "6e2a9d17-9d02-4147-9a02-f4dc26da44c0",
   "metadata": {},
   "outputs": [
    {
     "name": "stdout",
     "output_type": "stream",
     "text": [
      "['Thank you for the music', 'Welcome to the jungle']\n"
     ]
    }
   ],
   "source": [
    "txt = \"Thank you for the music\\nWelcome to the jungle\"\n",
    "x = txt.splitlines()\n",
    "print(x)"
   ]
  },
  {
   "cell_type": "markdown",
   "id": "4523966a-58cb-49eb-bb86-30ae23ef5adb",
   "metadata": {},
   "source": [
    "Split the string, but keep the line breaks:"
   ]
  },
  {
   "cell_type": "code",
   "execution_count": 111,
   "id": "18a2b684-1533-4cdd-b27c-7b1fa744e0bc",
   "metadata": {},
   "outputs": [
    {
     "name": "stdout",
     "output_type": "stream",
     "text": [
      "['Thank you for the music\\n', 'Welcome to the jungle']\n"
     ]
    }
   ],
   "source": [
    "txt = \"Thank you for the music\\nWelcome to the jungle\"\n",
    "x = txt.splitlines(True)\n",
    "print(x)"
   ]
  },
  {
   "cell_type": "markdown",
   "id": "87bcfdfb-a608-4604-8504-b0d24d919f6c",
   "metadata": {},
   "source": [
    "startswith() Method:"
   ]
  },
  {
   "cell_type": "markdown",
   "id": "b2ae8094-f3c6-49b5-bb29-228c181cad90",
   "metadata": {},
   "source": [
    "Check if the string starts with \"Hello\":"
   ]
  },
  {
   "cell_type": "code",
   "execution_count": 115,
   "id": "d40b99d2-90a7-4ae1-b78d-8edcfc10716a",
   "metadata": {},
   "outputs": [
    {
     "name": "stdout",
     "output_type": "stream",
     "text": [
      "True\n"
     ]
    }
   ],
   "source": [
    "txt = \"Hello, welcome to my world.\"\n",
    "x = txt.startswith(\"Hello\")\n",
    "print(x)"
   ]
  },
  {
   "cell_type": "markdown",
   "id": "a2c38465-bf92-4643-98fa-73c4e079edc3",
   "metadata": {},
   "source": [
    "Check if position 7 to 20 starts with the characters \"wel\":"
   ]
  },
  {
   "cell_type": "code",
   "execution_count": 118,
   "id": "57dd08ff-9e28-468e-ab8a-5cd23c920adb",
   "metadata": {},
   "outputs": [
    {
     "name": "stdout",
     "output_type": "stream",
     "text": [
      "True\n"
     ]
    }
   ],
   "source": [
    "txt = \"Hello, welcome to my world.\"\n",
    "x = txt.startswith(\"wel\", 7, 20)\n",
    "print(x)"
   ]
  },
  {
   "cell_type": "markdown",
   "id": "81aef208-43f2-4f16-8318-b1f84976867b",
   "metadata": {},
   "source": [
    "Check if the string starts with either \"Hello\" or \"Hi\":"
   ]
  },
  {
   "cell_type": "code",
   "execution_count": 121,
   "id": "8c7d95ca-7e4a-4eca-ad28-b949018ed5d0",
   "metadata": {},
   "outputs": [
    {
     "name": "stdout",
     "output_type": "stream",
     "text": [
      "True\n"
     ]
    }
   ],
   "source": [
    "txt = \"Hi, welcome to my world.\"\n",
    "x = txt.startswith((\"Hello\", \"Hi\"))\n",
    "print(x)"
   ]
  },
  {
   "cell_type": "markdown",
   "id": "0367282d-614b-46e8-871a-5df6b53f7976",
   "metadata": {},
   "source": [
    "strip() Method:"
   ]
  },
  {
   "cell_type": "markdown",
   "id": "6e521824-0da5-496e-8265-1c0eab9a90fa",
   "metadata": {},
   "source": [
    "Remove spaces at the beginning and at the end of the string:"
   ]
  },
  {
   "cell_type": "code",
   "execution_count": 125,
   "id": "ee75878b-6d38-4e84-95c8-c6891269c153",
   "metadata": {},
   "outputs": [
    {
     "name": "stdout",
     "output_type": "stream",
     "text": [
      "of all fruits banana is my favorite\n"
     ]
    }
   ],
   "source": [
    "txt = \"     banana     \"\n",
    "x = txt.strip()\n",
    "print(\"of all fruits\", x, \"is my favorite\")"
   ]
  },
  {
   "cell_type": "markdown",
   "id": "71d6011a-8297-45dd-bacb-a0babb47e320",
   "metadata": {},
   "source": [
    "Remove the leading and trailing characters:"
   ]
  },
  {
   "cell_type": "code",
   "execution_count": 128,
   "id": "5100b046-da4e-47e2-8125-db0ce33e97cf",
   "metadata": {},
   "outputs": [
    {
     "name": "stdout",
     "output_type": "stream",
     "text": [
      "banana\n"
     ]
    }
   ],
   "source": [
    "txt = \",,,,,rrttgg.....banana....rrr\"\n",
    "x = txt.strip(\",.grt\")\n",
    "print(x)"
   ]
  },
  {
   "cell_type": "markdown",
   "id": "080e310b-d9fe-4e07-9602-7cc1be492fb3",
   "metadata": {},
   "source": [
    "swapcase() Method:"
   ]
  },
  {
   "cell_type": "markdown",
   "id": "f931b55a-3856-4bc1-8da4-75fb37e2764b",
   "metadata": {},
   "source": [
    "Make the lower case letters upper case and the upper case letters lower case:"
   ]
  },
  {
   "cell_type": "code",
   "execution_count": 132,
   "id": "575086c2-29af-4647-8fe6-dc867bc4da1a",
   "metadata": {},
   "outputs": [
    {
     "name": "stdout",
     "output_type": "stream",
     "text": [
      "hELLO mY nAME iS peter\n"
     ]
    }
   ],
   "source": [
    "txt = \"Hello My Name Is PETER\"\n",
    "x = txt.swapcase()\n",
    "print(x)"
   ]
  },
  {
   "cell_type": "markdown",
   "id": "2b78ab42-60b3-4869-8ceb-c940902b2110",
   "metadata": {},
   "source": [
    "title() Method:"
   ]
  },
  {
   "cell_type": "markdown",
   "id": "8c20b2d1-797c-4f85-9080-858aa46a548c",
   "metadata": {},
   "source": [
    "Make the first letter in each word upper case:"
   ]
  },
  {
   "cell_type": "code",
   "execution_count": 136,
   "id": "c2b65beb-b06b-4a40-8346-a454c4f8e4fc",
   "metadata": {},
   "outputs": [
    {
     "name": "stdout",
     "output_type": "stream",
     "text": [
      "Welcome To My World\n"
     ]
    }
   ],
   "source": [
    "txt = \"Welcome to my world\"\n",
    "x = txt.title()\n",
    "print(x)"
   ]
  },
  {
   "cell_type": "code",
   "execution_count": 138,
   "id": "64503f3a-52b4-4072-b620-41ff64548ffd",
   "metadata": {},
   "outputs": [
    {
     "name": "stdout",
     "output_type": "stream",
     "text": [
      "Welcome To My 2Nd World\n"
     ]
    }
   ],
   "source": [
    "txt = \"Welcome to my 2nd world\"\n",
    "x = txt.title()\n",
    "print(x)"
   ]
  },
  {
   "cell_type": "markdown",
   "id": "3fd8e64f-17d7-4cc7-8704-d709d3ca1977",
   "metadata": {},
   "source": [
    "Note that the first letter after a non-alphabet letter is converted into a upper case letter:"
   ]
  },
  {
   "cell_type": "code",
   "execution_count": 141,
   "id": "3001b42c-c24c-42c1-ae53-a299df5f295c",
   "metadata": {},
   "outputs": [
    {
     "name": "stdout",
     "output_type": "stream",
     "text": [
      "Hello B2B2B2 And 3G3G3G\n"
     ]
    }
   ],
   "source": [
    "txt = \"hello b2b2b2 and 3g3g3g\"\n",
    "x = txt.title()\n",
    "print(x)"
   ]
  },
  {
   "cell_type": "markdown",
   "id": "823d8290-cb4c-4d26-ba58-5efe342e86f6",
   "metadata": {},
   "source": [
    "translate() Method:"
   ]
  },
  {
   "cell_type": "markdown",
   "id": "c885f8be-4395-4ab4-9b0f-1539e49eb624",
   "metadata": {},
   "source": [
    "Replace any \"S\" characters with a \"P\" character:"
   ]
  },
  {
   "cell_type": "code",
   "execution_count": 145,
   "id": "76d392be-e64b-4373-bc66-382ac2e69a02",
   "metadata": {},
   "outputs": [
    {
     "name": "stdout",
     "output_type": "stream",
     "text": [
      "Hello Pam!\n"
     ]
    }
   ],
   "source": [
    "#use a dictionary with ascii codes to replace 83 (S) with 80 (P):\n",
    "mydict = {83:  80}\n",
    "txt = \"Hello Sam!\"\n",
    "print(txt.translate(mydict))"
   ]
  },
  {
   "cell_type": "markdown",
   "id": "d1ffc1f0-7f66-4afc-a628-ce282b4ef608",
   "metadata": {},
   "source": [
    "Use a mapping table to replace \"S\" with \"P\":"
   ]
  },
  {
   "cell_type": "code",
   "execution_count": 148,
   "id": "12dc0272-5405-4e8f-a645-d2ce9de74221",
   "metadata": {},
   "outputs": [
    {
     "name": "stdout",
     "output_type": "stream",
     "text": [
      "Hello Pam!\n"
     ]
    }
   ],
   "source": [
    "txt = \"Hello Sam!\"\n",
    "mytable = str.maketrans(\"S\", \"P\")\n",
    "print(txt.translate(mytable))"
   ]
  },
  {
   "cell_type": "markdown",
   "id": "e50665d8-1be1-4aed-92cd-6c0c508a80b8",
   "metadata": {},
   "source": [
    "Use a mapping table to replace many characters:"
   ]
  },
  {
   "cell_type": "code",
   "execution_count": 151,
   "id": "312f3678-b367-49d7-b823-ea064aa914e7",
   "metadata": {},
   "outputs": [
    {
     "name": "stdout",
     "output_type": "stream",
     "text": [
      "Hi Joe!\n"
     ]
    }
   ],
   "source": [
    "txt = \"Hi Sam!\"\n",
    "x = \"mSa\"\n",
    "y = \"eJo\"\n",
    "mytable = str.maketrans(x, y)\n",
    "print(txt.translate(mytable))"
   ]
  },
  {
   "cell_type": "markdown",
   "id": "b2939ae3-9eb1-480a-8aea-36ac57467fb2",
   "metadata": {},
   "source": [
    "The third parameter in the mapping table describes characters that you want to remove from the string:"
   ]
  },
  {
   "cell_type": "code",
   "execution_count": 154,
   "id": "a72ec768-3e21-448b-accb-2c0e8b930b0d",
   "metadata": {},
   "outputs": [
    {
     "name": "stdout",
     "output_type": "stream",
     "text": [
      "G i Joe!\n"
     ]
    }
   ],
   "source": [
    "txt = \"Good night Sam!\"\n",
    "x = \"mSa\"\n",
    "y = \"eJo\"\n",
    "z = \"odnght\"\n",
    "mytable = str.maketrans(x, y, z)\n",
    "print(txt.translate(mytable))"
   ]
  },
  {
   "cell_type": "markdown",
   "id": "eb5db0a6-8d93-4a1f-a4b8-deac212fecbc",
   "metadata": {},
   "source": [
    "The same example as above, but using a dictionary instead of a mapping table:"
   ]
  },
  {
   "cell_type": "code",
   "execution_count": 157,
   "id": "4493d895-3021-4dea-8ef8-1e3589025ed5",
   "metadata": {},
   "outputs": [
    {
     "name": "stdout",
     "output_type": "stream",
     "text": [
      "G i Joe!\n"
     ]
    }
   ],
   "source": [
    "txt = \"Good night Sam!\"\n",
    "mydict = {109: 101, 83: 74, 97: 111, 111: None, 100: None, 110: None, 103: None, 104: None, 116: None}\n",
    "print(txt.translate(mydict))"
   ]
  },
  {
   "cell_type": "markdown",
   "id": "21d82ff6-1288-4b7e-914e-343456ef6db3",
   "metadata": {},
   "source": [
    "upper() Method:"
   ]
  },
  {
   "cell_type": "markdown",
   "id": "96430782-e9d1-4c01-b4b0-621a35e418be",
   "metadata": {},
   "source": [
    "Upper case the string:"
   ]
  },
  {
   "cell_type": "code",
   "execution_count": 161,
   "id": "155b4c84-2c14-4cb7-84e1-34e0cbe7d049",
   "metadata": {},
   "outputs": [
    {
     "name": "stdout",
     "output_type": "stream",
     "text": [
      "HELLO MY FRIENDS\n"
     ]
    }
   ],
   "source": [
    "txt = \"Hello my friends\"\n",
    "x = txt.upper()\n",
    "print(x)"
   ]
  },
  {
   "cell_type": "markdown",
   "id": "55c90be3-1824-4ad1-a0fd-0012a2f8d3eb",
   "metadata": {},
   "source": [
    "zfill() Method:"
   ]
  },
  {
   "cell_type": "markdown",
   "id": "a4d6c8e7-9c3f-4cb7-9f9c-5b344a7d950e",
   "metadata": {},
   "source": [
    "Fill the string with zeros until it is 10 characters long:"
   ]
  },
  {
   "cell_type": "code",
   "execution_count": 165,
   "id": "b3255111-c042-44f3-a242-3c90096c8497",
   "metadata": {},
   "outputs": [
    {
     "name": "stdout",
     "output_type": "stream",
     "text": [
      "0000000050\n"
     ]
    }
   ],
   "source": [
    "txt = \"50\"\n",
    "x = txt.zfill(10)\n",
    "print(x)"
   ]
  },
  {
   "cell_type": "code",
   "execution_count": 167,
   "id": "ce622c66-868a-423d-a7ec-eb0767bfe1a4",
   "metadata": {},
   "outputs": [
    {
     "name": "stdout",
     "output_type": "stream",
     "text": [
      "00000hello\n",
      "welcome to the jungle\n",
      "000010.000\n"
     ]
    }
   ],
   "source": [
    "a = \"hello\"\n",
    "b = \"welcome to the jungle\"\n",
    "c = \"10.000\"\n",
    "print(a.zfill(10))\n",
    "print(b.zfill(10))\n",
    "print(c.zfill(10))"
   ]
  },
  {
   "cell_type": "code",
   "execution_count": null,
   "id": "9f6d1998-8173-4cda-bb42-30eed9737936",
   "metadata": {},
   "outputs": [],
   "source": []
  }
 ],
 "metadata": {
  "kernelspec": {
   "display_name": "Python [conda env:base] *",
   "language": "python",
   "name": "conda-base-py"
  },
  "language_info": {
   "codemirror_mode": {
    "name": "ipython",
    "version": 3
   },
   "file_extension": ".py",
   "mimetype": "text/x-python",
   "name": "python",
   "nbconvert_exporter": "python",
   "pygments_lexer": "ipython3",
   "version": "3.12.7"
  }
 },
 "nbformat": 4,
 "nbformat_minor": 5
}
